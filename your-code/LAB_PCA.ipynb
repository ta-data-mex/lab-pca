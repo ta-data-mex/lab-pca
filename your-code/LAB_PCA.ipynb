{
  "cells": [
    {
      "cell_type": "markdown",
      "metadata": {
        "id": "ezjYf6T6hxwM"
      },
      "source": [
        "# Before your start:\n",
        "- Read the README.md file\n",
        "- Comment as much as you can and use the resources (README.md file)\n",
        "- Happy learning!"
      ]
    },
    {
      "cell_type": "code",
      "execution_count": 2,
      "metadata": {
        "id": "HOLv1-H0hxwS"
      },
      "outputs": [],
      "source": [
        "# Run this code:\n",
        "\n",
        "%matplotlib inline\n",
        "\n",
        "import matplotlib.pyplot as plt"
      ]
    },
    {
      "cell_type": "code",
      "execution_count": 1,
      "metadata": {
        "colab": {
          "base_uri": "https://localhost:8080/"
        },
        "id": "iEpdi9hbhxwW",
        "outputId": "b37a9db5-3f5d-4373-f97b-2f48fa25a113"
      },
      "outputs": [
        {
          "output_type": "stream",
          "name": "stderr",
          "text": [
            "/usr/local/lib/python3.7/dist-packages/statsmodels/tools/_testing.py:19: FutureWarning: pandas.util.testing is deprecated. Use the functions in the public API at pandas.testing instead.\n",
            "  import pandas.util.testing as tm\n"
          ]
        }
      ],
      "source": [
        "# Import numpy and pandas:\n",
        "\n",
        "import pandas as pd\n",
        "import numpy as np\n",
        "\n",
        "import pylab as plt\n",
        "import seaborn as sns\n",
        "\n",
        "\n",
        "from statsmodels.multivariate.pca import PCA\n",
        "\n",
        "#from sklearn.decomposition import PCA \n",
        "from sklearn.preprocessing import StandardScaler\n",
        "from sklearn.linear_model import LinearRegression\n",
        "from sklearn.model_selection import train_test_split"
      ]
    },
    {
      "cell_type": "markdown",
      "metadata": {
        "id": "47vTap0Thxwd"
      },
      "source": [
        "# Challenge 1 - Reading and Standardizing the Data\n",
        "\n",
        "In this challenge we will work with image data and reduce the dimensions of the data to create a 2 dimensional plot. While we have not worked much with image data before, it can be represented as a numpy array where each pixel is assigned a numeric value. In this lesson, we will look at a dataset of cats and a dataset of dogs and see whether reducing them to two dimensions allows us to see if the data is separable. We will start by loading and processing the data. Run the cell below to load the two csv files and convert them into numpy arrays."
      ]
    },
    {
      "cell_type": "code",
      "execution_count": 3,
      "metadata": {
        "id": "fbCNNe63hxwl"
      },
      "outputs": [],
      "source": [
        "# Run this code\n",
        "\n",
        "cats = np.array(pd.read_csv(\"https://raw.githubusercontent.com/bioramble/pca/master/cat.csv\", header=None))\n",
        "dogs = np.array(pd.read_csv(\"https://raw.githubusercontent.com/bioramble/pca/master/dog.csv\", header=None))"
      ]
    },
    {
      "cell_type": "markdown",
      "metadata": {
        "id": "eLHUBobRhxwp"
      },
      "source": [
        "Next, we'll examine the shape of both the cats and the dogs arrays. Print out both shapes below."
      ]
    },
    {
      "cell_type": "code",
      "execution_count": 4,
      "metadata": {
        "colab": {
          "base_uri": "https://localhost:8080/"
        },
        "id": "YP9W_tFkhxwr",
        "outputId": "ce4536bc-8f46-4539-ea4b-48038e7dec85"
      },
      "outputs": [
        {
          "output_type": "execute_result",
          "data": {
            "text/plain": [
              "((4096, 80), (4096, 80))"
            ]
          },
          "metadata": {},
          "execution_count": 4
        }
      ],
      "source": [
        "# Your code here:\n",
        "\n",
        "cats.shape, dogs.shape\n",
        "#mismo tamaño"
      ]
    },
    {
      "cell_type": "markdown",
      "metadata": {
        "id": "AqT0bukhhxww"
      },
      "source": [
        "What this means is that both arrays contain 80 images each (the number of columns). Each image is comprised of 64x64 pixels (so a total of 4096 pixels per image). The images have been flattened such that all 4096 are in a single row.\n",
        "\n",
        "Print out column 0 of the cats array to see what the pixels values look like."
      ]
    },
    {
      "cell_type": "code",
      "execution_count": 5,
      "metadata": {
        "colab": {
          "base_uri": "https://localhost:8080/"
        },
        "id": "7AWfEQ0Ohxw0",
        "outputId": "32b1881f-a5cf-4ae2-90e4-1ff0dc0053f9"
      },
      "outputs": [
        {
          "output_type": "execute_result",
          "data": {
            "text/plain": [
              "array([ 64,  23, 250, 137,  55, 173,  18, 134,  19,  47, 109, 164,  41,\n",
              "        78, 108, 108, 247, 105, 158,  54, 103,   4,  23, 102, 239,  72,\n",
              "        42,  21, 168, 109, 112, 177,  22, 233,  15, 236, 250, 137,  32,\n",
              "         5, 178, 109,  24, 107,  53, 241, 226, 143,   5, 136,  98, 100,\n",
              "        89,  66, 228,  92, 255,  88, 230,  56, 160,  69,   6,  24, 195,\n",
              "       183, 239,  35, 154, 154, 122,  18,  87, 106, 174,  69,  28,  60,\n",
              "       223, 101])"
            ]
          },
          "metadata": {},
          "execution_count": 5
        }
      ],
      "source": [
        "# Your code here:\n",
        "cats[0]"
      ]
    },
    {
      "cell_type": "markdown",
      "metadata": {
        "id": "-uUInV4-hxw5"
      },
      "source": [
        "Using `matplotlib` we can plot a single cat or a single dog. We do this by reshaping the vector back to a 64x64 image and then using the `imshow` function.\n",
        "\n",
        "Run the code below to look at the first dog and the first cat."
      ]
    },
    {
      "cell_type": "code",
      "execution_count": 6,
      "metadata": {
        "colab": {
          "base_uri": "https://localhost:8080/",
          "height": 286
        },
        "id": "u3S_d4mJhxw9",
        "outputId": "9f47bbb4-8b74-42fa-d77c-ababd60ebae2"
      },
      "outputs": [
        {
          "output_type": "execute_result",
          "data": {
            "text/plain": [
              "<matplotlib.image.AxesImage at 0x7f3fce4a6590>"
            ]
          },
          "metadata": {},
          "execution_count": 6
        },
        {
          "output_type": "display_data",
          "data": {
            "text/plain": [
              "<Figure size 432x288 with 1 Axes>"
            ],
            "image/png": "[encoded data removed]"
          },
          "metadata": {
            "needs_background": "light"
          }
        }
      ],
      "source": [
        "# Run this code:\n",
        "\n",
        "fig, ax = plt.subplots()\n",
        "ax.imshow(cats[:,0].reshape(64, 64).T, cmap=plt.cm.bone, interpolation='nearest') "
      ]
    },
    {
      "cell_type": "code",
      "execution_count": 7,
      "metadata": {
        "colab": {
          "base_uri": "https://localhost:8080/",
          "height": 286
        },
        "id": "cLtf7Ob_hxw_",
        "outputId": "0ee60145-f5b3-4aef-e52f-17c9da7297d8"
      },
      "outputs": [
        {
          "output_type": "execute_result",
          "data": {
            "text/plain": [
              "<matplotlib.image.AxesImage at 0x7f3fcdf6ced0>"
            ]
          },
          "metadata": {},
          "execution_count": 7
        },
        {
          "output_type": "display_data",
          "data": {
            "text/plain": [
              "<Figure size 432x288 with 1 Axes>"
            ],
            "image/png": "[encoded data removed]"
          },
          "metadata": {
            "needs_background": "light"
          }
        }
      ],
      "source": [
        "# Run this code:\n",
        "\n",
        "fig, ax = plt.subplots()\n",
        "ax.imshow(dogs[:,0].reshape(64, 64).T, cmap=plt.cm.bone, interpolation='nearest') "
      ]
    },
    {
      "cell_type": "markdown",
      "metadata": {
        "id": "TgF-qQXJhxxC"
      },
      "source": [
        "Next, we would like to create a standardization function. This function will find the mean and standard deviation of each image. We subtract the mean from each pixel and divide each pixel by the standard deviation. Write the function below.\n",
        "\n",
        "Hint: To find the mean and standard deviation of each image, use `numpy`'s version of mean and stadnard deviation and use `axis=0`."
      ]
    },
    {
      "cell_type": "code",
      "execution_count": 8,
      "metadata": {
        "id": "4OmBEHwYhxxD"
      },
      "outputs": [],
      "source": [
        "def standardize(x):\n",
        "    '''\n",
        "    This function takes as input a numpy array and returns a stadardized numpy array of the same dimensions.\n",
        "    Sample input: np.array([[1,2,3],[4,5,6]])\n",
        "    Sample output: np.array([[-1,-1,-1],[1,1,1]])\n",
        "    '''\n",
        "    mean = np.mean(x, axis=0)\n",
        "    std =  np.std(x, axis=0)\n",
        "    diff = [(i-mean)/std for i in x]\n",
        "    \n",
        "    return diff\n",
        "    "
      ]
    },
    {
      "cell_type": "code",
      "execution_count": 9,
      "metadata": {
        "colab": {
          "base_uri": "https://localhost:8080/"
        },
        "id": "fZjP_buYhxxF",
        "outputId": "bd7bf7c3-4d1c-4a62-b43c-2e02568405aa"
      },
      "outputs": [
        {
          "output_type": "execute_result",
          "data": {
            "text/plain": [
              "[array([-1., -1., -1.]), array([1., 1., 1.])]"
            ]
          },
          "metadata": {},
          "execution_count": 9
        }
      ],
      "source": [
        "x= ([[1,2,3],[4,5,6]])\n",
        "standardize(x)\n"
      ]
    },
    {
      "cell_type": "markdown",
      "metadata": {
        "id": "6PVQNEMRhxxG"
      },
      "source": [
        "Now, use the `np.concatenate` function to combine the cats and dogs arrays. Use `axis=1` to combine the two correctly. Make sure to put dogs first."
      ]
    },
    {
      "cell_type": "code",
      "execution_count": 10,
      "metadata": {
        "colab": {
          "base_uri": "https://localhost:8080/"
        },
        "id": "dARvGE_ahxxH",
        "outputId": "b28e63b1-7cb0-4b42-88a1-756483d3b644"
      },
      "outputs": [
        {
          "output_type": "execute_result",
          "data": {
            "text/plain": [
              "array([[224, 131, 127, ...,  60, 223, 101],\n",
              "       [224, 124, 136, ...,  50, 224, 107],\n",
              "       [224, 104, 127, ...,  63, 225, 106],\n",
              "       ...,\n",
              "       [100, 104, 115, ..., 105, 180, 114],\n",
              "       [100, 124, 104, ..., 118, 182,  91],\n",
              "       [100, 124, 104, ..., 104, 177, 113]])"
            ]
          },
          "metadata": {},
          "execution_count": 10
        }
      ],
      "source": [
        "# Your code here:\n",
        "catdog = np.concatenate((dogs, cats), axis=1)\n",
        "catdog\n"
      ]
    },
    {
      "cell_type": "markdown",
      "metadata": {
        "id": "gqa7lKVphxxJ"
      },
      "source": [
        "Standardize the concatenated array below."
      ]
    },
    {
      "cell_type": "code",
      "execution_count": null,
      "metadata": {
        "id": "KmQob4TxhxxK"
      },
      "outputs": [],
      "source": [
        "# Your code here:\n",
        "\n",
        "standar_matrix= standardize(catdog)\n",
        "standar_matrix"
      ]
    },
    {
      "cell_type": "markdown",
      "metadata": {
        "id": "CjiGtCothxxP"
      },
      "source": [
        "# Challenge 2 - Using PCA\n",
        "\n",
        "Now that we have created a standardized matrix of cats and dogs, we'll find the two most important components in the data.\n",
        "\n",
        "Load the `PCA` function from `statsmodels` (read about this function [here](https://www.statsmodels.org/dev/generated/statsmodels.multivariate.pca.PCA.html)) and apply the function to our standarized data. Create a PCA model with two components."
      ]
    },
    {
      "cell_type": "code",
      "execution_count": 12,
      "metadata": {
        "colab": {
          "base_uri": "https://localhost:8080/"
        },
        "id": "q-h71mfIhxxP",
        "outputId": "26107859-0ee4-41a3-d96e-94c24c8bee0a"
      },
      "outputs": [
        {
          "output_type": "execute_result",
          "data": {
            "text/plain": [
              "Principal Component Analysis(nobs: 4096, nvar: 160, transformation: Standardize (Correlation), normalization: True, number of components: 2, SVD, id: 0x7f3fcda63d10)"
            ]
          },
          "metadata": {},
          "execution_count": 12
        }
      ],
      "source": [
        "# Your code here:\n",
        "\n",
        "pca= PCA(standar_matrix, ncomp= 2)\n",
        "pca"
      ]
    },
    {
      "cell_type": "markdown",
      "metadata": {
        "id": "94Nr6kZbhxxR"
      },
      "source": [
        "Use `numpy` to find to transpose the standardized pet array. This will help us compute the projection."
      ]
    },
    {
      "cell_type": "code",
      "execution_count": 16,
      "metadata": {
        "colab": {
          "base_uri": "https://localhost:8080/"
        },
        "id": "3uCevnCvhxxR",
        "outputId": "04f3cbcd-882b-4590-9962-37ed3a836d7d"
      },
      "outputs": [
        {
          "output_type": "execute_result",
          "data": {
            "text/plain": [
              "array([[ 2.37662907,  2.37662907,  2.37662907, ...,  0.22755315,\n",
              "         0.22755315,  0.22755315],\n",
              "       [-0.30753004, -0.40500299, -0.68349716, ..., -0.68349716,\n",
              "        -0.40500299, -0.40500299],\n",
              "       [ 0.93254857,  1.15681724,  0.93254857, ...,  0.63352369,\n",
              "         0.35941754,  0.35941754],\n",
              "       ...,\n",
              "       [-1.80817356, -2.06459792, -1.73124626, ..., -0.65426398,\n",
              "        -0.32091232, -0.67990641],\n",
              "       [ 1.42293481,  1.44036713,  1.45779946, ...,  0.67334483,\n",
              "         0.70820948,  0.62104786],\n",
              "       [-0.20363951, -0.05437635, -0.07925354, ...,  0.11976401,\n",
              "        -0.45241144,  0.09488681]])"
            ]
          },
          "metadata": {},
          "execution_count": 16
        }
      ],
      "source": [
        "# Your code here:\n",
        "tranpose = np.transpose(standar_matrix)\n",
        "tranpose\n",
        "\n"
      ]
    },
    {
      "cell_type": "markdown",
      "metadata": {
        "id": "zyvVBuUChxxT"
      },
      "source": [
        "Find the dot product of the transposed standardized pet matrix and the `factors` of the `PCA` model found above. This will be the projection onto 2 dimensions. This means that each cat and dog image will now only have two columns instead of 4096."
      ]
    },
    {
      "cell_type": "code",
      "execution_count": null,
      "metadata": {
        "id": "pfe9g3H9hxxT"
      },
      "outputs": [],
      "source": [
        "# Your code here:\n",
        "dot_product = np.dot(tranpose, pca.factors)\n",
        "dot_product\n"
      ]
    },
    {
      "cell_type": "markdown",
      "metadata": {
        "id": "1bl44mK7hxxU"
      },
      "source": [
        "# Challenge 3 - Plotting the Data\n",
        "\n",
        "Now that we have reduced our cats and dogs arrays, we can easily plot the data in a way that the human eye can understand. We can look at this plot to see whether there are differences between the cat and dog images. \n",
        "\n",
        "In the cell below, turn the two dimensional projection into a pandas dataframe and name the columns `pc1`, and `pc2` respectively."
      ]
    },
    {
      "cell_type": "code",
      "execution_count": 19,
      "metadata": {
        "colab": {
          "base_uri": "https://localhost:8080/",
          "height": 206
        },
        "id": "_29A3N7fhxxW",
        "outputId": "f85de144-665f-452e-e5d4-69107a0f24fb"
      },
      "outputs": [
        {
          "output_type": "execute_result",
          "data": {
            "text/plain": [
              "         pc1        pc2\n",
              "0 -42.477618  14.718214\n",
              "1 -32.188707 -19.266296\n",
              "2  12.963227 -18.021975\n",
              "3  -5.083062 -32.955571\n",
              "4 -32.866232   4.119687"
            ],
            "text/html": [
              "\n",
              "  <div id=\"df-c9b15553-85e5-460e-82c1-c03b6848f117\">\n",
              "    <div class=\"colab-df-container\">\n",
              "      <div>\n",
              "<style scoped>\n",
              "    .dataframe tbody tr th:only-of-type {\n",
              "        vertical-align: middle;\n",
              "    }\n",
              "\n",
              "    .dataframe tbody tr th {\n",
              "        vertical-align: top;\n",
              "    }\n",
              "\n",
              "    .dataframe thead th {\n",
              "        text-align: right;\n",
              "    }\n",
              "</style>\n",
              "<table border=\"1\" class=\"dataframe\">\n",
              "  <thead>\n",
              "    <tr style=\"text-align: right;\">\n",
              "      <th></th>\n",
              "      <th>pc1</th>\n",
              "      <th>pc2</th>\n",
              "    </tr>\n",
              "  </thead>\n",
              "  <tbody>\n",
              "    <tr>\n",
              "      <th>0</th>\n",
              "      <td>-42.477618</td>\n",
              "      <td>14.718214</td>\n",
              "    </tr>\n",
              "    <tr>\n",
              "      <th>1</th>\n",
              "      <td>-32.188707</td>\n",
              "      <td>-19.266296</td>\n",
              "    </tr>\n",
              "    <tr>\n",
              "      <th>2</th>\n",
              "      <td>12.963227</td>\n",
              "      <td>-18.021975</td>\n",
              "    </tr>\n",
              "    <tr>\n",
              "      <th>3</th>\n",
              "      <td>-5.083062</td>\n",
              "      <td>-32.955571</td>\n",
              "    </tr>\n",
              "    <tr>\n",
              "      <th>4</th>\n",
              "      <td>-32.866232</td>\n",
              "      <td>4.119687</td>\n",
              "    </tr>\n",
              "  </tbody>\n",
              "</table>\n",
              "</div>\n",
              "      <button class=\"colab-df-convert\" onclick=\"convertToInteractive('df-c9b15553-85e5-460e-82c1-c03b6848f117')\"\n",
              "              title=\"Convert this dataframe to an interactive table.\"\n",
              "              style=\"display:none;\">\n",
              "        \n",
              "  <svg xmlns=\"http://www.w3.org/2000/svg\" height=\"24px\"viewBox=\"0 0 24 24\"\n",
              "       width=\"24px\">\n",
              "    <path d=\"M0 0h24v24H0V0z\" fill=\"none\"/>\n",
              "    <path d=\"M18.56 5.44l.94 2.06.94-2.06 2.06-.94-2.06-.94-.94-2.06-.94 2.06-2.06.94zm-11 1L8.5 8.5l.94-2.06 2.06-.94-2.06-.94L8.5 2.5l-.94 2.06-2.06.94zm10 10l.94 2.06.94-2.06 2.06-.94-2.06-.94-.94-2.06-.94 2.06-2.06.94z\"/><path d=\"M17.41 7.96l-1.37-1.37c-.4-.4-.92-.59-1.43-.59-.52 0-1.04.2-1.43.59L10.3 9.45l-7.72 7.72c-.78.78-.78 2.05 0 2.83L4 21.41c.39.39.9.59 1.41.59.51 0 1.02-.2 1.41-.59l7.78-7.78 2.81-2.81c.8-.78.8-2.07 0-2.86zM5.41 20L4 18.59l7.72-7.72 1.47 1.35L5.41 20z\"/>\n",
              "  </svg>\n",
              "      </button>\n",
              "      \n",
              "  <style>\n",
              "    .colab-df-container {\n",
              "      display:flex;\n",
              "      flex-wrap:wrap;\n",
              "      gap: 12px;\n",
              "    }\n",
              "\n",
              "    .colab-df-convert {\n",
              "      background-color: #E8F0FE;\n",
              "      border: none;\n",
              "      border-radius: 50%;\n",
              "      cursor: pointer;\n",
              "      display: none;\n",
              "      fill: #1967D2;\n",
              "      height: 32px;\n",
              "      padding: 0 0 0 0;\n",
              "      width: 32px;\n",
              "    }\n",
              "\n",
              "    .colab-df-convert:hover {\n",
              "      background-color: #E2EBFA;\n",
              "      box-shadow: 0px 1px 2px rgba(60, 64, 67, 0.3), 0px 1px 3px 1px rgba(60, 64, 67, 0.15);\n",
              "      fill: #174EA6;\n",
              "    }\n",
              "\n",
              "    [theme=dark] .colab-df-convert {\n",
              "      background-color: #3B4455;\n",
              "      fill: #D2E3FC;\n",
              "    }\n",
              "\n",
              "    [theme=dark] .colab-df-convert:hover {\n",
              "      background-color: #434B5C;\n",
              "      box-shadow: 0px 1px 3px 1px rgba(0, 0, 0, 0.15);\n",
              "      filter: drop-shadow(0px 1px 2px rgba(0, 0, 0, 0.3));\n",
              "      fill: #FFFFFF;\n",
              "    }\n",
              "  </style>\n",
              "\n",
              "      <script>\n",
              "        const buttonEl =\n",
              "          document.querySelector('#df-c9b15553-85e5-460e-82c1-c03b6848f117 button.colab-df-convert');\n",
              "        buttonEl.style.display =\n",
              "          google.colab.kernel.accessAllowed ? 'block' : 'none';\n",
              "\n",
              "        async function convertToInteractive(key) {\n",
              "          const element = document.querySelector('#df-c9b15553-85e5-460e-82c1-c03b6848f117');\n",
              "          const dataTable =\n",
              "            await google.colab.kernel.invokeFunction('convertToInteractive',\n",
              "                                                     [key], {});\n",
              "          if (!dataTable) return;\n",
              "\n",
              "          const docLinkHtml = 'Like what you see? Visit the ' +\n",
              "            '<a target=\"_blank\" href=https://colab.research.google.com/notebooks/data_table.ipynb>data table notebook</a>'\n",
              "            + ' to learn more about interactive tables.';\n",
              "          element.innerHTML = '';\n",
              "          dataTable['output_type'] = 'display_data';\n",
              "          await google.colab.output.renderOutput(dataTable, element);\n",
              "          const docLink = document.createElement('div');\n",
              "          docLink.innerHTML = docLinkHtml;\n",
              "          element.appendChild(docLink);\n",
              "        }\n",
              "      </script>\n",
              "    </div>\n",
              "  </div>\n",
              "  "
            ]
          },
          "metadata": {},
          "execution_count": 19
        }
      ],
      "source": [
        "# Your code here:\n",
        "\n",
        "df= pd.DataFrame(dot_product, columns = ['pc1', 'pc2'])\n",
        "df.head(5)"
      ]
    },
    {
      "cell_type": "markdown",
      "metadata": {
        "id": "MafbvQ_1hxxW"
      },
      "source": [
        "Create a labels list. This list will be of size 160. The first 80 elements in the list will be the word `blue`, and the last 80 elements will be `red`. This will ensure that all dog observations will be colored in blue and all cats will be colored in red. Name this list `colors`."
      ]
    },
    {
      "cell_type": "code",
      "execution_count": null,
      "metadata": {
        "id": "oJE2ztsZhxxY"
      },
      "outputs": [],
      "source": [
        "# Your code here:\n",
        "colors = ['blue', 'red']*80\n",
        "colors.sort()\n",
        "colors\n"
      ]
    },
    {
      "cell_type": "markdown",
      "metadata": {
        "id": "abXqHfYhhxxY"
      },
      "source": [
        "Create a scatter plot of `pc1` and `pc2` below. Use the `colors` list above to color the observations by setting `c=colors`."
      ]
    },
    {
      "cell_type": "code",
      "execution_count": 32,
      "metadata": {
        "colab": {
          "base_uri": "https://localhost:8080/",
          "height": 501
        },
        "id": "2d5hf0tzhxxZ",
        "outputId": "53c5a8e7-fb9d-4a70-dc85-11323d4d4044"
      },
      "outputs": [
        {
          "output_type": "execute_result",
          "data": {
            "text/plain": [
              "<matplotlib.collections.PathCollection at 0x7f3fc6e8b110>"
            ]
          },
          "metadata": {},
          "execution_count": 32
        },
        {
          "output_type": "display_data",
          "data": {
            "text/plain": [
              "<Figure size 720x576 with 1 Axes>"
            ],
            "image/png": "[encoded data removed]"
          },
          "metadata": {
            "needs_background": "light"
          }
        }
      ],
      "source": [
        "# Your code here:\n",
        "\n",
        "plt.figure(figsize= (10,8))\n",
        "x= df.pc1\n",
        "y= df.pc2\n",
        "\n",
        "plt.scatter(x, y, c=colors)\n"
      ]
    },
    {
      "cell_type": "markdown",
      "metadata": {
        "id": "dcoqnsWMhxxb"
      },
      "source": [
        "Do you see a clear separation between cats and dogs? Write your answer below."
      ]
    },
    {
      "cell_type": "markdown",
      "source": [
        "\n",
        "No hay una separacion tan clara pero es evidente que los puntos azules estan mas agrupados hacia la izquierda.\n",
        "\n",
        "---\n",
        "\n"
      ],
      "metadata": {
        "id": "oBDafglHpAuQ"
      }
    }
  ],
  "metadata": {
    "kernelspec": {
      "display_name": "Python 3 (ipykernel)",
      "language": "python",
      "name": "python3"
    },
    "language_info": {
      "codemirror_mode": {
        "name": "ipython",
        "version": 3
      },
      "file_extension": ".py",
      "mimetype": "text/x-python",
      "name": "python",
      "nbconvert_exporter": "python",
      "pygments_lexer": "ipython3",
      "version": "3.10.3"
    },
    "colab": {
      "name": "LAB-PCA.ipynb",
      "provenance": [],
      "collapsed_sections": []
    }
  },
  "nbformat": 4,
  "nbformat_minor": 0
}