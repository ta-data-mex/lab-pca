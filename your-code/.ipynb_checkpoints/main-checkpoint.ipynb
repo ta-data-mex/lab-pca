{
 "cells": [
  {
   "cell_type": "markdown",
   "metadata": {},
   "source": [
    "# Before your start:\n",
    "- Read the README.md file\n",
    "- Comment as much as you can and use the resources (README.md file)\n",
    "- Happy learning!"
   ]
  },
  {
   "cell_type": "code",
   "execution_count": 1,
   "metadata": {},
   "outputs": [],
   "source": [
    "# Run this code:\n",
    "\n",
    "%matplotlib inline\n",
    "\n",
    "import matplotlib.pyplot as plt"
   ]
  },
  {
   "cell_type": "code",
   "execution_count": 2,
   "metadata": {},
   "outputs": [],
   "source": [
    "# Import numpy and pandas:\n",
    "\n",
    "import numpy as np\n",
    "import pandas as pd"
   ]
  },
  {
   "cell_type": "markdown",
   "metadata": {},
   "source": [
    "# Challenge 1 - Reading and Standardizing the Data\n",
    "\n",
    "In this challenge we will work with image data and reduce the dimensions of the data to create a 2 dimensional plot. While we have not worked much with image data before, it can be represented as a numpy array where each pixel is assigned a numeric value. In this lesson, we will look at a dataset of cats and a dataset of dogs and see whether reducing them to two dimensions allows us to see if the data is separable. We will start by loading and processing the data. Run the cell below to load the two csv files and convert them into numpy arrays."
   ]
  },
  {
   "cell_type": "code",
   "execution_count": 3,
   "metadata": {},
   "outputs": [],
   "source": [
    "# Run this code\n",
    "\n",
    "cats = np.array(pd.read_csv(\"https://raw.githubusercontent.com/bioramble/pca/master/cat.csv\", header=None))\n",
    "dogs = np.array(pd.read_csv(\"https://raw.githubusercontent.com/bioramble/pca/master/dog.csv\", header=None))"
   ]
  },
  {
   "cell_type": "markdown",
   "metadata": {},
   "source": [
    "Next, we'll examine the shape of both the cats and the dogs arrays. Print out both shapes below."
   ]
  },
  {
   "cell_type": "code",
   "execution_count": 5,
   "metadata": {},
   "outputs": [
    {
     "name": "stdout",
     "output_type": "stream",
     "text": [
      "El shape de cats es: (4096, 80)\n",
      "El shape de dogs es: (4096, 80)\n"
     ]
    }
   ],
   "source": [
    "# Your code here:\n",
    "\n",
    "print(f'El shape de cats es: {cats.shape}')\n",
    "print(f'El shape de dogs es: {dogs.shape}')"
   ]
  },
  {
   "cell_type": "markdown",
   "metadata": {},
   "source": [
    "What this means is that both arrays contain 80 images each (the number of columns). Each image is comprised of 64x64 pixels (so a total of 4096 pixels per image). The images have been flattened such that all 4096 are in a single row.\n",
    "\n",
    "Print out column 0 of the cats array to see what the pixels values look like."
   ]
  },
  {
   "cell_type": "code",
   "execution_count": 165,
   "metadata": {},
   "outputs": [
    {
     "name": "stdout",
     "output_type": "stream",
     "text": [
      "[64 64 64 ... 64 64 61]\n",
      "[224 224 224 ... 100 100 100]\n"
     ]
    }
   ],
   "source": [
    "# Your code here:\n",
    "\n",
    "print(cats[:, 0])\n",
    "print(dogs[:, 0])"
   ]
  },
  {
   "cell_type": "markdown",
   "metadata": {},
   "source": [
    "Using `matplotlib` we can plot a single cat or a single dog. We do this by reshaping the vector back to a 64x64 image and then using the `imshow` function.\n",
    "\n",
    "Run the code below to look at the first dog and the first cat."
   ]
  },
  {
   "cell_type": "code",
   "execution_count": 13,
   "metadata": {},
   "outputs": [
    {
     "data": {
      "text/plain": [
       "<matplotlib.image.AxesImage at 0x1c0ce5cf670>"
      ]
     },
     "execution_count": 13,
     "metadata": {},
     "output_type": "execute_result"
    },
    {
     "data": {
      "image/png": "[encoded data removed]",
      "text/plain": [
       "<Figure size 432x288 with 1 Axes>"
      ]
     },
     "metadata": {
      "needs_background": "light"
     },
     "output_type": "display_data"
    }
   ],
   "source": [
    "# Run this code:\n",
    "\n",
    "fig, ax = plt.subplots()\n",
    "ax.imshow(cats[:,0].reshape(64, 64).T, cmap=plt.cm.bone, interpolation='nearest') "
   ]
  },
  {
   "cell_type": "code",
   "execution_count": 36,
   "metadata": {},
   "outputs": [
    {
     "data": {
      "text/plain": [
       "<matplotlib.image.AxesImage at 0x1c0d0a4cfa0>"
      ]
     },
     "execution_count": 36,
     "metadata": {},
     "output_type": "execute_result"
    },
    {
     "data": {
      "image/png": "[encoded data removed]",
      "text/plain": [
       "<Figure size 432x288 with 1 Axes>"
      ]
     },
     "metadata": {
      "needs_background": "light"
     },
     "output_type": "display_data"
    }
   ],
   "source": [
    "# Run this code:\n",
    "\n",
    "fig, ax = plt.subplots()\n",
    "ax.imshow(dogs[:,79].reshape(64, 64).T, cmap=plt.cm.bone, interpolation='nearest') "
   ]
  },
  {
   "cell_type": "markdown",
   "metadata": {},
   "source": [
    "Next, we would like to create a standardization function. This function will find the mean and standard deviation of each image. We subtract the mean from each pixel and divide each pixel by the standard deviation. Write the function below.\n",
    "\n",
    "Hint: To find the mean and standard deviation of each image, use `numpy`'s version of mean and stadnard deviation and use `axis=0`."
   ]
  },
  {
   "cell_type": "code",
   "execution_count": 94,
   "metadata": {},
   "outputs": [
    {
     "data": {
      "text/plain": [
       "80"
      ]
     },
     "execution_count": 94,
     "metadata": {},
     "output_type": "execute_result"
    }
   ],
   "source": [
    "row, col = dogs.shape\n",
    "col"
   ]
  },
  {
   "cell_type": "code",
   "execution_count": 106,
   "metadata": {},
   "outputs": [],
   "source": [
    "def standardize(x):\n",
    "    #This function takes as input a numpy array and returns a stadardized numpy array of the same dimensions.\n",
    "    #Sample input: np.array([[1,2,3],[4,5,6]])\n",
    "    #Sample output: np.array([[-1,-1,-1],[1,1,1]])\n",
    "    \n",
    "    # Your code here:\n",
    "\n",
    "    row, col = x.shape\n",
    "    stand_array = []\n",
    "    \n",
    "    for i in range(col):\n",
    "        mean = np.mean(x[:, i], axis=0)\n",
    "        std = np.std(x[:, i], axis=0)\n",
    "        \n",
    "        stand = (x[:, i] - mean)/std\n",
    "        stand_array.append(stand)\n",
    "        \n",
    "    return np.array(stand_array).transpose()"
   ]
  },
  {
   "cell_type": "markdown",
   "metadata": {},
   "source": [
    "Now, use the `np.concatenate` function to combine the cats and dogs arrays. Use `axis=1` to combine the two correctly. Make sure to put dogs first."
   ]
  },
  {
   "cell_type": "code",
   "execution_count": 107,
   "metadata": {},
   "outputs": [
    {
     "data": {
      "text/plain": [
       "(4096, 160)"
      ]
     },
     "execution_count": 107,
     "metadata": {},
     "output_type": "execute_result"
    }
   ],
   "source": [
    "# Your code here:\n",
    "\n",
    "dogs_cats = np.concatenate((dogs, cats), axis=1)\n",
    "dogs_cats.shape"
   ]
  },
  {
   "cell_type": "markdown",
   "metadata": {},
   "source": [
    "Standardize the concatenated array below."
   ]
  },
  {
   "cell_type": "code",
   "execution_count": 109,
   "metadata": {},
   "outputs": [
    {
     "data": {
      "text/plain": [
       "(4096, 160)"
      ]
     },
     "execution_count": 109,
     "metadata": {},
     "output_type": "execute_result"
    }
   ],
   "source": [
    "# Your code here:\n",
    "\n",
    "stand_dog_cat = standardize(dogs_cats)\n",
    "stand_dog_cat.shape"
   ]
  },
  {
   "cell_type": "markdown",
   "metadata": {},
   "source": [
    "# Challenge 2 - Using PCA\n",
    "\n",
    "Now that we have created a standardized matrix of cats and dogs, we'll find the two most important components in the data.\n",
    "\n",
    "Load the `PCA` function from `statsmodels` (read about this function [here](https://www.statsmodels.org/dev/generated/statsmodels.multivariate.pca.PCA.html)) and apply the function to our standarized data. Create a PCA model with two components."
   ]
  },
  {
   "cell_type": "code",
   "execution_count": 147,
   "metadata": {},
   "outputs": [],
   "source": [
    "# Your code here:\n",
    "\n",
    "from statsmodels.multivariate.pca import PCA\n",
    "\n",
    "pca = PCA(stand_dog_cat, ncomp=2)"
   ]
  },
  {
   "cell_type": "markdown",
   "metadata": {},
   "source": [
    "Use `numpy` to find to transpose the standardized pet array. This will help us compute the projection."
   ]
  },
  {
   "cell_type": "code",
   "execution_count": 148,
   "metadata": {},
   "outputs": [
    {
     "data": {
      "text/plain": [
       "(160, 4096)"
      ]
     },
     "execution_count": 148,
     "metadata": {},
     "output_type": "execute_result"
    }
   ],
   "source": [
    "# Your code here:\n",
    "\n",
    "pets_t = np.transpose(stand_dog_cat)\n",
    "pets_t.shape"
   ]
  },
  {
   "cell_type": "markdown",
   "metadata": {},
   "source": [
    "Find the dot product of the transposed standardized pet matrix and the `factors` of the `PCA` model found above. This will be the projection onto 2 dimensions. This means that each cat and dog image will now only have two columns instead of 4096."
   ]
  },
  {
   "cell_type": "code",
   "execution_count": 150,
   "metadata": {},
   "outputs": [
    {
     "data": {
      "text/plain": [
       "(160, 2)"
      ]
     },
     "execution_count": 150,
     "metadata": {},
     "output_type": "execute_result"
    }
   ],
   "source": [
    "# Your code here:\n",
    "\n",
    "projection = np.dot(pets_t, pca.factors)\n",
    "projection.shape"
   ]
  },
  {
   "cell_type": "markdown",
   "metadata": {},
   "source": [
    "# Challenge 3 - Plotting the Data\n",
    "\n",
    "Now that we have reduced our cats and dogs arrays, we can easily plot the data in a way that the human eye can understand. We can look at this plot to see whether there are differences between the cat and dog images. \n",
    "\n",
    "In the cell below, turn the two dimensional projection into a pandas dataframe and name the columns `pc1`, and `pc2` respectively."
   ]
  },
  {
   "cell_type": "code",
   "execution_count": 151,
   "metadata": {},
   "outputs": [
    {
     "data": {
      "text/html": [
       "<div>\n",
       "<style scoped>\n",
       "    .dataframe tbody tr th:only-of-type {\n",
       "        vertical-align: middle;\n",
       "    }\n",
       "\n",
       "    .dataframe tbody tr th {\n",
       "        vertical-align: top;\n",
       "    }\n",
       "\n",
       "    .dataframe thead th {\n",
       "        text-align: right;\n",
       "    }\n",
       "</style>\n",
       "<table border=\"1\" class=\"dataframe\">\n",
       "  <thead>\n",
       "    <tr style=\"text-align: right;\">\n",
       "      <th></th>\n",
       "      <th>pc1</th>\n",
       "      <th>pc2</th>\n",
       "    </tr>\n",
       "  </thead>\n",
       "  <tbody>\n",
       "    <tr>\n",
       "      <th>0</th>\n",
       "      <td>-42.477618</td>\n",
       "      <td>14.718214</td>\n",
       "    </tr>\n",
       "    <tr>\n",
       "      <th>1</th>\n",
       "      <td>-32.188707</td>\n",
       "      <td>-19.266296</td>\n",
       "    </tr>\n",
       "    <tr>\n",
       "      <th>2</th>\n",
       "      <td>12.963227</td>\n",
       "      <td>-18.021975</td>\n",
       "    </tr>\n",
       "    <tr>\n",
       "      <th>3</th>\n",
       "      <td>-5.083062</td>\n",
       "      <td>-32.955571</td>\n",
       "    </tr>\n",
       "    <tr>\n",
       "      <th>4</th>\n",
       "      <td>-32.866232</td>\n",
       "      <td>4.119687</td>\n",
       "    </tr>\n",
       "  </tbody>\n",
       "</table>\n",
       "</div>"
      ],
      "text/plain": [
       "         pc1        pc2\n",
       "0 -42.477618  14.718214\n",
       "1 -32.188707 -19.266296\n",
       "2  12.963227 -18.021975\n",
       "3  -5.083062 -32.955571\n",
       "4 -32.866232   4.119687"
      ]
     },
     "execution_count": 151,
     "metadata": {},
     "output_type": "execute_result"
    }
   ],
   "source": [
    "# Your code here:\n",
    "\n",
    "df = pd.DataFrame(projection, columns=['pc1', 'pc2'])\n",
    "df.head()"
   ]
  },
  {
   "cell_type": "markdown",
   "metadata": {},
   "source": [
    "Create a labels list. This list will be of size 160. The first 80 elements in the list will be the word `blue`, and the last 80 elements will be `red`. This will ensure that all dog observations will be colored in blue and all cats will be colored in red. Name this list `colors`."
   ]
  },
  {
   "cell_type": "code",
   "execution_count": 152,
   "metadata": {},
   "outputs": [],
   "source": [
    "# Your code here:\n",
    "\n",
    "colors = ['blue' if i < 80  else 'red' for i in range(160)]"
   ]
  },
  {
   "cell_type": "markdown",
   "metadata": {},
   "source": [
    "Create a scatter plot of `pc1` and `pc2` below. Use the `colors` list above to color the observations by setting `c=colors`."
   ]
  },
  {
   "cell_type": "code",
   "execution_count": 155,
   "metadata": {},
   "outputs": [
    {
     "data": {
      "image/png": "[encoded data removed]",
      "text/plain": [
       "<Figure size 720x576 with 1 Axes>"
      ]
     },
     "metadata": {
      "needs_background": "light"
     },
     "output_type": "display_data"
    }
   ],
   "source": [
    "# Your code here:\n",
    "\n",
    "plt.figure(figsize=(10, 8))\n",
    "plt.scatter(x=df['pc1'], y=df['pc2'], c=colors);"
   ]
  },
  {
   "cell_type": "markdown",
   "metadata": {},
   "source": [
    "Do you see a clear separation between cats and dogs? Write your answer below."
   ]
  },
  {
   "cell_type": "code",
   "execution_count": 162,
   "metadata": {},
   "outputs": [],
   "source": [
    "# Your conclusions here:\n",
    "\n",
    "# Cada punta de la grafica previa representa una imagen. Los perros se concentran en la parte inferior central y los gatos\n",
    "# en la parte superior derecha, aunque tenemos una aglomeracion de perros y gatos en la parte central de la grafica de \n",
    "# dispercion. Esto nos dice que nuestro modelo no es capaz de distinguir entre perros y gatos a partir de solo 2 componentes"
   ]
  },
  {
   "cell_type": "markdown",
   "metadata": {},
   "source": [
    "# 3 componentes"
   ]
  },
  {
   "cell_type": "code",
   "execution_count": 163,
   "metadata": {},
   "outputs": [],
   "source": [
    "import plotly.express as px"
   ]
  },
  {
   "cell_type": "code",
   "execution_count": 164,
   "metadata": {},
   "outputs": [
    {
     "data": {
      "application/vnd.plotly.v1+json": {
       "config": {
        "plotlyServerURL": "https://plot.ly"
       },
       "data": [
        {
         "hovertemplate": "color=blue<br>pc1=%{x}<br>pc2=%{y}<br>pc3=%{z}<extra></extra>",
         "legendgroup": "blue",
         "marker": {
          "color": "#636efa",
          "symbol": "circle"
         },
         "mode": "markers",
         "name": "blue",
         "scene": "scene",
         "showlegend": true,
         "type": "scatter3d",
         "x": [
          -42.47761803893302,
          -32.18870650792474,
          12.963226520411137,
          -5.083062160931649,
          -32.86623188045381,
          8.788572934199188,
          -22.15300067089754,
          -14.309592289956642,
          -12.408520588292323,
          -39.47642410359006,
          -0.35046664936716265,
          -21.776500657233516,
          -8.509692100880581,
          3.0595475280644084,
          -19.183051109834494,
          -17.581258850182255,
          -16.02471892189747,
          -39.03886625412896,
          -18.406092481819176,
          -15.569920096659724,
          3.625201746990925,
          -1.6153315396108585,
          -9.820591065369857,
          -11.867841640725036,
          -27.137863394512717,
          -0.2273545507833319,
          3.710484434266584,
          -0.8924980711328105,
          -13.607716281400034,
          -9.707288164323685,
          -4.790928104904891,
          -7.391042169081517,
          -30.124295852198273,
          -13.202868407647363,
          7.263990814130257,
          -15.860702889126397,
          14.20329985728533,
          -1.407282503516476,
          6.577122340395851,
          -28.661994795500632,
          -17.050644483912542,
          -11.477250121487373,
          10.073382448995586,
          -15.186633876599114,
          8.06078337239618,
          -20.232504609280888,
          -26.571907005403908,
          -6.958507604681234,
          -15.25017625756526,
          16.515198054939347,
          -29.478505700983153,
          -36.662407724663666,
          -6.1159088035967475,
          21.804172806981796,
          21.584261730840723,
          14.004216820579428,
          -29.15009874512969,
          -14.841148007414644,
          16.649851178202557,
          2.0714908614599516,
          -7.742217419054413,
          -31.01784873610698,
          -31.008596305376408,
          22.942655693295684,
          10.692710319740648,
          -27.32238788067862,
          -5.074799574648393,
          32.22521867147526,
          2.3012394940042675,
          -22.6619738519865,
          10.608175215048313,
          1.0074589354649555,
          -26.418911318859827,
          21.07571773220738,
          -10.271990408990026,
          -39.869559113775566,
          -33.230891935946104,
          8.281759316178286,
          3.351855378896243,
          -39.012399559581866
         ],
         "y": [
          14.718214329211829,
          -19.266296298174172,
          -18.02197453029602,
          -32.95557124437312,
          4.119687441318576,
          -45.18911555936968,
          -13.233284972779188,
          -39.061609180909926,
          -38.71301053086835,
          2.207190282498116,
          -35.54740511477765,
          -17.657487547443367,
          -16.730903856586988,
          -17.98269230093029,
          -31.8063267269768,
          -33.597297499867956,
          -8.312198404283974,
          -21.242950606730947,
          -28.7375925992457,
          -44.77293663971879,
          -35.80142746973525,
          -38.347911001239716,
          -15.268148595856703,
          -40.88818107582407,
          -30.696753361540715,
          -43.29906426427071,
          -28.809448093757933,
          -22.9035420882952,
          -47.36631028214521,
          -24.720571320020234,
          -30.65608069267416,
          -27.00402038427762,
          -29.25403951765794,
          -35.492089250991825,
          -38.20544098530591,
          -14.860483404282922,
          -37.916255375980576,
          -31.602022094173467,
          -43.05144162498199,
          -19.040267356452567,
          -40.12970253064852,
          16.685204623392615,
          -32.859323678399036,
          -27.12325512712927,
          -16.132879675229766,
          22.41075609239055,
          8.397469893958846,
          -8.004968186462856,
          11.799885477396305,
          -34.45325575578192,
          11.077077596872403,
          26.75661095647085,
          15.142240266934511,
          -40.23379394822522,
          -4.971284777738658,
          -3.749123300560039,
          6.228644112752738,
          12.187410318206243,
          -26.883904365129013,
          -30.333840086752698,
          -39.1173910771546,
          21.475270492831356,
          5.5133190817091045,
          2.9435437207961366,
          -8.917387450424535,
          -0.11639354515681699,
          21.971113647205705,
          -11.423134015916048,
          -3.2642372070823074,
          -28.94288323572935,
          -11.760832984331469,
          -31.926582037464023,
          -25.32152791669195,
          -24.106960374558568,
          25.033029488270397,
          5.874976119989803,
          -8.669389343972547,
          -34.630647709064895,
          -33.18823672836197,
          2.6778166175952745
         ],
         "z": [
          19.110316622437452,
          5.48568865155569,
          18.735340274399256,
          -7.384431630120588,
          -22.088972453779494,
          0.543728797445949,
          -15.041768373397261,
          -5.87240912910213,
          -16.66487058244243,
          2.0636924025068724,
          0.8008163293140811,
          -17.723616784599578,
          21.835140705320388,
          5.483765873739558,
          11.020787216665832,
          16.985326064931584,
          -33.051743659603986,
          21.766169357409126,
          -17.759070455607805,
          -4.101056204229751,
          -13.214726853418725,
          3.6385510618203982,
          12.60540568835999,
          -11.28369077272259,
          -11.047921721767505,
          -1.2752941495704486,
          33.5802760022979,
          -10.790056229413542,
          -4.494658911320189,
          39.23963320160746,
          24.226000055217295,
          21.99005971839003,
          14.705538728421619,
          12.363119711562764,
          9.756369572711815,
          0.2812760642816259,
          12.889795145811838,
          -29.29073683141911,
          16.209211792481582,
          -18.433410782985078,
          21.093583899901233,
          8.69481912490454,
          -22.05961841284215,
          -24.268404914359895,
          9.64274973477791,
          -8.615562673038708,
          -3.6218912542273016,
          -25.163236855520346,
          -31.30880572197789,
          -11.399185834573643,
          -7.1110322617084645,
          6.70494455023818,
          -10.39673216156205,
          -12.948915652355009,
          14.562584657635782,
          2.978815860285343,
          13.175958512811366,
          3.5291248531701727,
          27.491074908101417,
          6.590759223745119,
          1.504139605040268,
          5.4267896602694,
          1.8451549593869743,
          11.268723066543465,
          -23.380381400581975,
          -7.8128290219305585,
          -24.21972093820304,
          5.002182354998178,
          -24.3045225967646,
          15.413906853049038,
          -0.6559951436517784,
          -18.995047691269015,
          6.209958097226082,
          9.249621660985948,
          -2.2389422356140267,
          -2.4438906655331216,
          -17.96660435633201,
          -11.316459777950488,
          -12.551970370864634,
          31.059993392853272
         ]
        },
        {
         "hovertemplate": "color=red<br>pc1=%{x}<br>pc2=%{y}<br>pc3=%{z}<extra></extra>",
         "legendgroup": "red",
         "marker": {
          "color": "#EF553B",
          "symbol": "circle"
         },
         "mode": "markers",
         "name": "red",
         "scene": "scene",
         "showlegend": true,
         "type": "scatter3d",
         "x": [
          15.655353872546057,
          49.691809175119985,
          -48.1660519057416,
          -41.00710478398291,
          30.17992664981145,
          20.868636033159277,
          41.405053477941756,
          5.213648319894674,
          42.36328171083427,
          21.04212660536477,
          -0.065047328890806,
          -5.760763245641017,
          51.799267444279586,
          30.32243658161726,
          -28.897957587587726,
          39.16125380452104,
          -28.954007808567738,
          33.244219808407465,
          -42.83268860284735,
          50.59949363610059,
          -10.98031318223125,
          35.53242393739321,
          35.518073068505586,
          34.03177436176756,
          -51.601829456102756,
          7.038131202740498,
          34.95042527435167,
          31.579875003781126,
          -21.396360299322783,
          20.890180687396022,
          2.4503156509966297,
          -12.37522742158503,
          18.453722220456307,
          -52.93563251552364,
          51.112177084544115,
          7.595795602119692,
          -50.48353365527427,
          42.992478155863346,
          20.953111853640074,
          15.538861172774613,
          7.323056729654503,
          27.140811284444958,
          54.45923938095289,
          32.01232010272785,
          51.836250698522946,
          -33.4597449678993,
          -34.07465093745258,
          -28.69953768161574,
          50.72387266694439,
          -1.1988032640587902,
          24.96539726199927,
          15.916311328946373,
          46.15267990378356,
          36.02326638124627,
          -18.574967513676953,
          38.89770719834482,
          36.33162147275622,
          19.511245159481966,
          -32.96577355140106,
          21.7299085453134,
          1.7370523206291661,
          21.386392616416032,
          39.501168224212954,
          42.06328756494645,
          -25.098197549750267,
          7.036038493633479,
          -51.02431916527513,
          3.5910519994220955,
          -22.247449131949995,
          -32.66740407678274,
          -15.715671321569879,
          35.02622103998899,
          10.989060283490003,
          -2.0056046237243805,
          -11.088363251350358,
          26.889975000523172,
          32.94241510614515,
          45.692012959219994,
          -17.0738935459686,
          8.07906584008067
         ],
         "y": [
          14.218969624043295,
          1.0203725584521361,
          3.752864201681491,
          -1.3359315395451308,
          17.505279993779165,
          32.92673292840883,
          -2.9667817657713798,
          16.98706106111759,
          7.619151055819396,
          17.223178312680623,
          4.65422310616485,
          4.4133343073534865,
          9.902891208958486,
          11.905438132821835,
          13.758616832263904,
          16.445529860004278,
          10.906274828427573,
          10.476831096573909,
          -0.790747650990328,
          4.9394360474554,
          12.221314575146556,
          -1.866193806283242,
          -13.040564658818557,
          -32.11339673113812,
          5.878304086079343,
          -21.655664542775618,
          18.0092498944501,
          -18.191183258762223,
          2.501870312550268,
          10.413869445914836,
          16.67033409715134,
          15.44005523660433,
          29.594344903330313,
          11.18386096639052,
          -2.0903581455053084,
          -11.959339735274755,
          -1.918979344579193,
          7.8996732603522535,
          -20.346386904213905,
          14.33033740936578,
          19.471356551124764,
          18.14728285406237,
          -14.509367212035844,
          -20.602829598336964,
          -18.81617121098583,
          14.89453044192295,
          -4.510663176492277,
          9.907462795479297,
          -4.897691627365611,
          8.457629875677116,
          15.114496241687965,
          -11.813309156210117,
          15.588379533766528,
          13.22930501021927,
          20.479917575657094,
          17.927607551162584,
          22.066666768695917,
          -9.24727311848926,
          27.703276784573937,
          -34.16990331701804,
          -1.2037726602665195,
          14.194425462253237,
          10.46720896361649,
          -10.965232201897898,
          2.385378096941798,
          18.47047983092042,
          7.68602494758,
          -0.4072394735794109,
          6.5463826787531385,
          -4.591643424501456,
          3.604686428468135,
          -11.995715498966547,
          14.44502609321575,
          -3.8335601680825686,
          -0.6600568638195341,
          -19.086465821531604,
          -23.688067306953016,
          -12.846916883057716,
          -3.83187358262412,
          12.942746220751957
         ],
         "z": [
          9.272821874313129,
          -13.687246995414029,
          15.368434795894618,
          12.6165927183172,
          29.447007444812783,
          8.354883893134044,
          12.057315312409951,
          30.50653210768664,
          19.02870614529717,
          -11.982623403623244,
          -23.435331180466367,
          31.549129976152408,
          5.401415362136457,
          24.538284612438492,
          17.249106739653506,
          -4.941926312118239,
          -21.908367311406394,
          20.5576287900697,
          -0.21303765582856915,
          -16.348107654309093,
          6.7891300775645576,
          15.525567585261346,
          11.89274669396639,
          -5.5326070413432085,
          7.260942985919206,
          22.277322316449485,
          10.00382137099927,
          22.59919943572382,
          17.71698661844742,
          11.195223219139592,
          -13.316832236615259,
          26.631569139041446,
          -18.866493317878927,
          -10.280458957691483,
          -18.234373554274647,
          3.4805470338436506,
          -5.381805799321489,
          11.083970376523666,
          -4.063436450933172,
          -13.022347529152144,
          -4.1010259211266336,
          -2.5986859281182486,
          -6.243150796449899,
          -4.855929905917115,
          -11.371088451026438,
          -23.44265082849204,
          27.710056480482976,
          2.939938008867647,
          -7.291132527749422,
          13.412500909562105,
          1.4416958268872437,
          0.3381151194006722,
          9.298370177252963,
          4.6252512467676254,
          17.327158059983184,
          8.638021318139119,
          6.2024190086050215,
          -12.46380650118828,
          17.479458798988528,
          11.108940393507249,
          17.03974542708612,
          2.773944889096856,
          9.155581341168899,
          -0.1523013245523024,
          -21.363289197640693,
          -34.951529982283915,
          -3.782117241990559,
          21.836405501368063,
          -17.30128854110048,
          18.60325436206864,
          2.2299477751419854,
          -30.98705187392595,
          29.453882340720355,
          33.1512431646582,
          -10.172205487255356,
          -14.938146642398227,
          -0.3037464945979096,
          -5.357042010981964,
          -4.802199219619488,
          -25.25280786866982
         ]
        }
       ],
       "layout": {
        "legend": {
         "title": {
          "text": "color"
         },
         "tracegroupgap": 0
        },
        "margin": {
         "t": 60
        },
        "scene": {
         "domain": {
          "x": [
           0,
           1
          ],
          "y": [
           0,
           1
          ]
         },
         "xaxis": {
          "title": {
           "text": "pc1"
          }
         },
         "yaxis": {
          "title": {
           "text": "pc2"
          }
         },
         "zaxis": {
          "title": {
           "text": "pc3"
          }
         }
        },
        "template": {
         "data": {
          "bar": [
           {
            "error_x": {
             "color": "#2a3f5f"
            },
            "error_y": {
             "color": "#2a3f5f"
            },
            "marker": {
             "line": {
              "color": "#E5ECF6",
              "width": 0.5
             },
             "pattern": {
              "fillmode": "overlay",
              "size": 10,
              "solidity": 0.2
             }
            },
            "type": "bar"
           }
          ],
          "barpolar": [
           {
            "marker": {
             "line": {
              "color": "#E5ECF6",
              "width": 0.5
             },
             "pattern": {
              "fillmode": "overlay",
              "size": 10,
              "solidity": 0.2
             }
            },
            "type": "barpolar"
           }
          ],
          "carpet": [
           {
            "aaxis": {
             "endlinecolor": "#2a3f5f",
             "gridcolor": "white",
             "linecolor": "white",
             "minorgridcolor": "white",
             "startlinecolor": "#2a3f5f"
            },
            "baxis": {
             "endlinecolor": "#2a3f5f",
             "gridcolor": "white",
             "linecolor": "white",
             "minorgridcolor": "white",
             "startlinecolor": "#2a3f5f"
            },
            "type": "carpet"
           }
          ],
          "choropleth": [
           {
            "colorbar": {
             "outlinewidth": 0,
             "ticks": ""
            },
            "type": "choropleth"
           }
          ],
          "contour": [
           {
            "colorbar": {
             "outlinewidth": 0,
             "ticks": ""
            },
            "colorscale": [
             [
              0,
              "#0d0887"
             ],
             [
              0.1111111111111111,
              "#46039f"
             ],
             [
              0.2222222222222222,
              "#7201a8"
             ],
             [
              0.3333333333333333,
              "#9c179e"
             ],
             [
              0.4444444444444444,
              "#bd3786"
             ],
             [
              0.5555555555555556,
              "#d8576b"
             ],
             [
              0.6666666666666666,
              "#ed7953"
             ],
             [
              0.7777777777777778,
              "#fb9f3a"
             ],
             [
              0.8888888888888888,
              "#fdca26"
             ],
             [
              1,
              "#f0f921"
             ]
            ],
            "type": "contour"
           }
          ],
          "contourcarpet": [
           {
            "colorbar": {
             "outlinewidth": 0,
             "ticks": ""
            },
            "type": "contourcarpet"
           }
          ],
          "heatmap": [
           {
            "colorbar": {
             "outlinewidth": 0,
             "ticks": ""
            },
            "colorscale": [
             [
              0,
              "#0d0887"
             ],
             [
              0.1111111111111111,
              "#46039f"
             ],
             [
              0.2222222222222222,
              "#7201a8"
             ],
             [
              0.3333333333333333,
              "#9c179e"
             ],
             [
              0.4444444444444444,
              "#bd3786"
             ],
             [
              0.5555555555555556,
              "#d8576b"
             ],
             [
              0.6666666666666666,
              "#ed7953"
             ],
             [
              0.7777777777777778,
              "#fb9f3a"
             ],
             [
              0.8888888888888888,
              "#fdca26"
             ],
             [
              1,
              "#f0f921"
             ]
            ],
            "type": "heatmap"
           }
          ],
          "heatmapgl": [
           {
            "colorbar": {
             "outlinewidth": 0,
             "ticks": ""
            },
            "colorscale": [
             [
              0,
              "#0d0887"
             ],
             [
              0.1111111111111111,
              "#46039f"
             ],
             [
              0.2222222222222222,
              "#7201a8"
             ],
             [
              0.3333333333333333,
              "#9c179e"
             ],
             [
              0.4444444444444444,
              "#bd3786"
             ],
             [
              0.5555555555555556,
              "#d8576b"
             ],
             [
              0.6666666666666666,
              "#ed7953"
             ],
             [
              0.7777777777777778,
              "#fb9f3a"
             ],
             [
              0.8888888888888888,
              "#fdca26"
             ],
             [
              1,
              "#f0f921"
             ]
            ],
            "type": "heatmapgl"
           }
          ],
          "histogram": [
           {
            "marker": {
             "pattern": {
              "fillmode": "overlay",
              "size": 10,
              "solidity": 0.2
             }
            },
            "type": "histogram"
           }
          ],
          "histogram2d": [
           {
            "colorbar": {
             "outlinewidth": 0,
             "ticks": ""
            },
            "colorscale": [
             [
              0,
              "#0d0887"
             ],
             [
              0.1111111111111111,
              "#46039f"
             ],
             [
              0.2222222222222222,
              "#7201a8"
             ],
             [
              0.3333333333333333,
              "#9c179e"
             ],
             [
              0.4444444444444444,
              "#bd3786"
             ],
             [
              0.5555555555555556,
              "#d8576b"
             ],
             [
              0.6666666666666666,
              "#ed7953"
             ],
             [
              0.7777777777777778,
              "#fb9f3a"
             ],
             [
              0.8888888888888888,
              "#fdca26"
             ],
             [
              1,
              "#f0f921"
             ]
            ],
            "type": "histogram2d"
           }
          ],
          "histogram2dcontour": [
           {
            "colorbar": {
             "outlinewidth": 0,
             "ticks": ""
            },
            "colorscale": [
             [
              0,
              "#0d0887"
             ],
             [
              0.1111111111111111,
              "#46039f"
             ],
             [
              0.2222222222222222,
              "#7201a8"
             ],
             [
              0.3333333333333333,
              "#9c179e"
             ],
             [
              0.4444444444444444,
              "#bd3786"
             ],
             [
              0.5555555555555556,
              "#d8576b"
             ],
             [
              0.6666666666666666,
              "#ed7953"
             ],
             [
              0.7777777777777778,
              "#fb9f3a"
             ],
             [
              0.8888888888888888,
              "#fdca26"
             ],
             [
              1,
              "#f0f921"
             ]
            ],
            "type": "histogram2dcontour"
           }
          ],
          "mesh3d": [
           {
            "colorbar": {
             "outlinewidth": 0,
             "ticks": ""
            },
            "type": "mesh3d"
           }
          ],
          "parcoords": [
           {
            "line": {
             "colorbar": {
              "outlinewidth": 0,
              "ticks": ""
             }
            },
            "type": "parcoords"
           }
          ],
          "pie": [
           {
            "automargin": true,
            "type": "pie"
           }
          ],
          "scatter": [
           {
            "marker": {
             "colorbar": {
              "outlinewidth": 0,
              "ticks": ""
             }
            },
            "type": "scatter"
           }
          ],
          "scatter3d": [
           {
            "line": {
             "colorbar": {
              "outlinewidth": 0,
              "ticks": ""
             }
            },
            "marker": {
             "colorbar": {
              "outlinewidth": 0,
              "ticks": ""
             }
            },
            "type": "scatter3d"
           }
          ],
          "scattercarpet": [
           {
            "marker": {
             "colorbar": {
              "outlinewidth": 0,
              "ticks": ""
             }
            },
            "type": "scattercarpet"
           }
          ],
          "scattergeo": [
           {
            "marker": {
             "colorbar": {
              "outlinewidth": 0,
              "ticks": ""
             }
            },
            "type": "scattergeo"
           }
          ],
          "scattergl": [
           {
            "marker": {
             "colorbar": {
              "outlinewidth": 0,
              "ticks": ""
             }
            },
            "type": "scattergl"
           }
          ],
          "scattermapbox": [
           {
            "marker": {
             "colorbar": {
              "outlinewidth": 0,
              "ticks": ""
             }
            },
            "type": "scattermapbox"
           }
          ],
          "scatterpolar": [
           {
            "marker": {
             "colorbar": {
              "outlinewidth": 0,
              "ticks": ""
             }
            },
            "type": "scatterpolar"
           }
          ],
          "scatterpolargl": [
           {
            "marker": {
             "colorbar": {
              "outlinewidth": 0,
              "ticks": ""
             }
            },
            "type": "scatterpolargl"
           }
          ],
          "scatterternary": [
           {
            "marker": {
             "colorbar": {
              "outlinewidth": 0,
              "ticks": ""
             }
            },
            "type": "scatterternary"
           }
          ],
          "surface": [
           {
            "colorbar": {
             "outlinewidth": 0,
             "ticks": ""
            },
            "colorscale": [
             [
              0,
              "#0d0887"
             ],
             [
              0.1111111111111111,
              "#46039f"
             ],
             [
              0.2222222222222222,
              "#7201a8"
             ],
             [
              0.3333333333333333,
              "#9c179e"
             ],
             [
              0.4444444444444444,
              "#bd3786"
             ],
             [
              0.5555555555555556,
              "#d8576b"
             ],
             [
              0.6666666666666666,
              "#ed7953"
             ],
             [
              0.7777777777777778,
              "#fb9f3a"
             ],
             [
              0.8888888888888888,
              "#fdca26"
             ],
             [
              1,
              "#f0f921"
             ]
            ],
            "type": "surface"
           }
          ],
          "table": [
           {
            "cells": {
             "fill": {
              "color": "#EBF0F8"
             },
             "line": {
              "color": "white"
             }
            },
            "header": {
             "fill": {
              "color": "#C8D4E3"
             },
             "line": {
              "color": "white"
             }
            },
            "type": "table"
           }
          ]
         },
         "layout": {
          "annotationdefaults": {
           "arrowcolor": "#2a3f5f",
           "arrowhead": 0,
           "arrowwidth": 1
          },
          "autotypenumbers": "strict",
          "coloraxis": {
           "colorbar": {
            "outlinewidth": 0,
            "ticks": ""
           }
          },
          "colorscale": {
           "diverging": [
            [
             0,
             "#8e0152"
            ],
            [
             0.1,
             "#c51b7d"
            ],
            [
             0.2,
             "#de77ae"
            ],
            [
             0.3,
             "#f1b6da"
            ],
            [
             0.4,
             "#fde0ef"
            ],
            [
             0.5,
             "#f7f7f7"
            ],
            [
             0.6,
             "#e6f5d0"
            ],
            [
             0.7,
             "#b8e186"
            ],
            [
             0.8,
             "#7fbc41"
            ],
            [
             0.9,
             "#4d9221"
            ],
            [
             1,
             "#276419"
            ]
           ],
           "sequential": [
            [
             0,
             "#0d0887"
            ],
            [
             0.1111111111111111,
             "#46039f"
            ],
            [
             0.2222222222222222,
             "#7201a8"
            ],
            [
             0.3333333333333333,
             "#9c179e"
            ],
            [
             0.4444444444444444,
             "#bd3786"
            ],
            [
             0.5555555555555556,
             "#d8576b"
            ],
            [
             0.6666666666666666,
             "#ed7953"
            ],
            [
             0.7777777777777778,
             "#fb9f3a"
            ],
            [
             0.8888888888888888,
             "#fdca26"
            ],
            [
             1,
             "#f0f921"
            ]
           ],
           "sequentialminus": [
            [
             0,
             "#0d0887"
            ],
            [
             0.1111111111111111,
             "#46039f"
            ],
            [
             0.2222222222222222,
             "#7201a8"
            ],
            [
             0.3333333333333333,
             "#9c179e"
            ],
            [
             0.4444444444444444,
             "#bd3786"
            ],
            [
             0.5555555555555556,
             "#d8576b"
            ],
            [
             0.6666666666666666,
             "#ed7953"
            ],
            [
             0.7777777777777778,
             "#fb9f3a"
            ],
            [
             0.8888888888888888,
             "#fdca26"
            ],
            [
             1,
             "#f0f921"
            ]
           ]
          },
          "colorway": [
           "#636efa",
           "#EF553B",
           "#00cc96",
           "#ab63fa",
           "#FFA15A",
           "#19d3f3",
           "#FF6692",
           "#B6E880",
           "#FF97FF",
           "#FECB52"
          ],
          "font": {
           "color": "#2a3f5f"
          },
          "geo": {
           "bgcolor": "white",
           "lakecolor": "white",
           "landcolor": "#E5ECF6",
           "showlakes": true,
           "showland": true,
           "subunitcolor": "white"
          },
          "hoverlabel": {
           "align": "left"
          },
          "hovermode": "closest",
          "mapbox": {
           "style": "light"
          },
          "paper_bgcolor": "white",
          "plot_bgcolor": "#E5ECF6",
          "polar": {
           "angularaxis": {
            "gridcolor": "white",
            "linecolor": "white",
            "ticks": ""
           },
           "bgcolor": "#E5ECF6",
           "radialaxis": {
            "gridcolor": "white",
            "linecolor": "white",
            "ticks": ""
           }
          },
          "scene": {
           "xaxis": {
            "backgroundcolor": "#E5ECF6",
            "gridcolor": "white",
            "gridwidth": 2,
            "linecolor": "white",
            "showbackground": true,
            "ticks": "",
            "zerolinecolor": "white"
           },
           "yaxis": {
            "backgroundcolor": "#E5ECF6",
            "gridcolor": "white",
            "gridwidth": 2,
            "linecolor": "white",
            "showbackground": true,
            "ticks": "",
            "zerolinecolor": "white"
           },
           "zaxis": {
            "backgroundcolor": "#E5ECF6",
            "gridcolor": "white",
            "gridwidth": 2,
            "linecolor": "white",
            "showbackground": true,
            "ticks": "",
            "zerolinecolor": "white"
           }
          },
          "shapedefaults": {
           "line": {
            "color": "#2a3f5f"
           }
          },
          "ternary": {
           "aaxis": {
            "gridcolor": "white",
            "linecolor": "white",
            "ticks": ""
           },
           "baxis": {
            "gridcolor": "white",
            "linecolor": "white",
            "ticks": ""
           },
           "bgcolor": "#E5ECF6",
           "caxis": {
            "gridcolor": "white",
            "linecolor": "white",
            "ticks": ""
           }
          },
          "title": {
           "x": 0.05
          },
          "xaxis": {
           "automargin": true,
           "gridcolor": "white",
           "linecolor": "white",
           "ticks": "",
           "title": {
            "standoff": 15
           },
           "zerolinecolor": "white",
           "zerolinewidth": 2
          },
          "yaxis": {
           "automargin": true,
           "gridcolor": "white",
           "linecolor": "white",
           "ticks": "",
           "title": {
            "standoff": 15
           },
           "zerolinecolor": "white",
           "zerolinewidth": 2
          }
         }
        }
       }
      },
      "text/html": [
       "<div>                            <div id=\"96f2fd41-4661-4562-8df6-c0889de177d7\" class=\"plotly-graph-div\" style=\"height:525px; width:100%;\"></div>            <script type=\"text/javascript\">                require([\"plotly\"], function(Plotly) {                    window.PLOTLYENV=window.PLOTLYENV || {};                                    if (document.getElementById(\"96f2fd41-4661-4562-8df6-c0889de177d7\")) {                    Plotly.newPlot(                        \"96f2fd41-4661-4562-8df6-c0889de177d7\",                        [{\"hovertemplate\":\"color=blue<br>pc1=%{x}<br>pc2=%{y}<br>pc3=%{z}<extra></extra>\",\"legendgroup\":\"blue\",\"marker\":{\"color\":\"#636efa\",\"symbol\":\"circle\"},\"mode\":\"markers\",\"name\":\"blue\",\"scene\":\"scene\",\"showlegend\":true,\"type\":\"scatter3d\",\"x\":[-42.47761803893302,-32.18870650792474,12.963226520411137,-5.083062160931649,-32.86623188045381,8.788572934199188,-22.15300067089754,-14.309592289956642,-12.408520588292323,-39.47642410359006,-0.35046664936716265,-21.776500657233516,-8.509692100880581,3.0595475280644084,-19.183051109834494,-17.581258850182255,-16.02471892189747,-39.03886625412896,-18.406092481819176,-15.569920096659724,3.625201746990925,-1.6153315396108585,-9.820591065369857,-11.867841640725036,-27.137863394512717,-0.2273545507833319,3.710484434266584,-0.8924980711328105,-13.607716281400034,-9.707288164323685,-4.790928104904891,-7.391042169081517,-30.124295852198273,-13.202868407647363,7.263990814130257,-15.860702889126397,14.20329985728533,-1.407282503516476,6.577122340395851,-28.661994795500632,-17.050644483912542,-11.477250121487373,10.073382448995586,-15.186633876599114,8.06078337239618,-20.232504609280888,-26.571907005403908,-6.958507604681234,-15.25017625756526,16.515198054939347,-29.478505700983153,-36.662407724663666,-6.1159088035967475,21.804172806981796,21.584261730840723,14.004216820579428,-29.15009874512969,-14.841148007414644,16.649851178202557,2.0714908614599516,-7.742217419054413,-31.01784873610698,-31.008596305376408,22.942655693295684,10.692710319740648,-27.32238788067862,-5.074799574648393,32.22521867147526,2.3012394940042675,-22.6619738519865,10.608175215048313,1.0074589354649555,-26.418911318859827,21.07571773220738,-10.271990408990026,-39.869559113775566,-33.230891935946104,8.281759316178286,3.351855378896243,-39.012399559581866],\"y\":[14.718214329211829,-19.266296298174172,-18.02197453029602,-32.95557124437312,4.119687441318576,-45.18911555936968,-13.233284972779188,-39.061609180909926,-38.71301053086835,2.207190282498116,-35.54740511477765,-17.657487547443367,-16.730903856586988,-17.98269230093029,-31.8063267269768,-33.597297499867956,-8.312198404283974,-21.242950606730947,-28.7375925992457,-44.77293663971879,-35.80142746973525,-38.347911001239716,-15.268148595856703,-40.88818107582407,-30.696753361540715,-43.29906426427071,-28.809448093757933,-22.9035420882952,-47.36631028214521,-24.720571320020234,-30.65608069267416,-27.00402038427762,-29.25403951765794,-35.492089250991825,-38.20544098530591,-14.860483404282922,-37.916255375980576,-31.602022094173467,-43.05144162498199,-19.040267356452567,-40.12970253064852,16.685204623392615,-32.859323678399036,-27.12325512712927,-16.132879675229766,22.41075609239055,8.397469893958846,-8.004968186462856,11.799885477396305,-34.45325575578192,11.077077596872403,26.75661095647085,15.142240266934511,-40.23379394822522,-4.971284777738658,-3.749123300560039,6.228644112752738,12.187410318206243,-26.883904365129013,-30.333840086752698,-39.1173910771546,21.475270492831356,5.5133190817091045,2.9435437207961366,-8.917387450424535,-0.11639354515681699,21.971113647205705,-11.423134015916048,-3.2642372070823074,-28.94288323572935,-11.760832984331469,-31.926582037464023,-25.32152791669195,-24.106960374558568,25.033029488270397,5.874976119989803,-8.669389343972547,-34.630647709064895,-33.18823672836197,2.6778166175952745],\"z\":[19.110316622437452,5.48568865155569,18.735340274399256,-7.384431630120588,-22.088972453779494,0.543728797445949,-15.041768373397261,-5.87240912910213,-16.66487058244243,2.0636924025068724,0.8008163293140811,-17.723616784599578,21.835140705320388,5.483765873739558,11.020787216665832,16.985326064931584,-33.051743659603986,21.766169357409126,-17.759070455607805,-4.101056204229751,-13.214726853418725,3.6385510618203982,12.60540568835999,-11.28369077272259,-11.047921721767505,-1.2752941495704486,33.5802760022979,-10.790056229413542,-4.494658911320189,39.23963320160746,24.226000055217295,21.99005971839003,14.705538728421619,12.363119711562764,9.756369572711815,0.2812760642816259,12.889795145811838,-29.29073683141911,16.209211792481582,-18.433410782985078,21.093583899901233,8.69481912490454,-22.05961841284215,-24.268404914359895,9.64274973477791,-8.615562673038708,-3.6218912542273016,-25.163236855520346,-31.30880572197789,-11.399185834573643,-7.1110322617084645,6.70494455023818,-10.39673216156205,-12.948915652355009,14.562584657635782,2.978815860285343,13.175958512811366,3.5291248531701727,27.491074908101417,6.590759223745119,1.504139605040268,5.4267896602694,1.8451549593869743,11.268723066543465,-23.380381400581975,-7.8128290219305585,-24.21972093820304,5.002182354998178,-24.3045225967646,15.413906853049038,-0.6559951436517784,-18.995047691269015,6.209958097226082,9.249621660985948,-2.2389422356140267,-2.4438906655331216,-17.96660435633201,-11.316459777950488,-12.551970370864634,31.059993392853272]},{\"hovertemplate\":\"color=red<br>pc1=%{x}<br>pc2=%{y}<br>pc3=%{z}<extra></extra>\",\"legendgroup\":\"red\",\"marker\":{\"color\":\"#EF553B\",\"symbol\":\"circle\"},\"mode\":\"markers\",\"name\":\"red\",\"scene\":\"scene\",\"showlegend\":true,\"type\":\"scatter3d\",\"x\":[15.655353872546057,49.691809175119985,-48.1660519057416,-41.00710478398291,30.17992664981145,20.868636033159277,41.405053477941756,5.213648319894674,42.36328171083427,21.04212660536477,-0.065047328890806,-5.760763245641017,51.799267444279586,30.32243658161726,-28.897957587587726,39.16125380452104,-28.954007808567738,33.244219808407465,-42.83268860284735,50.59949363610059,-10.98031318223125,35.53242393739321,35.518073068505586,34.03177436176756,-51.601829456102756,7.038131202740498,34.95042527435167,31.579875003781126,-21.396360299322783,20.890180687396022,2.4503156509966297,-12.37522742158503,18.453722220456307,-52.93563251552364,51.112177084544115,7.595795602119692,-50.48353365527427,42.992478155863346,20.953111853640074,15.538861172774613,7.323056729654503,27.140811284444958,54.45923938095289,32.01232010272785,51.836250698522946,-33.4597449678993,-34.07465093745258,-28.69953768161574,50.72387266694439,-1.1988032640587902,24.96539726199927,15.916311328946373,46.15267990378356,36.02326638124627,-18.574967513676953,38.89770719834482,36.33162147275622,19.511245159481966,-32.96577355140106,21.7299085453134,1.7370523206291661,21.386392616416032,39.501168224212954,42.06328756494645,-25.098197549750267,7.036038493633479,-51.02431916527513,3.5910519994220955,-22.247449131949995,-32.66740407678274,-15.715671321569879,35.02622103998899,10.989060283490003,-2.0056046237243805,-11.088363251350358,26.889975000523172,32.94241510614515,45.692012959219994,-17.0738935459686,8.07906584008067],\"y\":[14.218969624043295,1.0203725584521361,3.752864201681491,-1.3359315395451308,17.505279993779165,32.92673292840883,-2.9667817657713798,16.98706106111759,7.619151055819396,17.223178312680623,4.65422310616485,4.4133343073534865,9.902891208958486,11.905438132821835,13.758616832263904,16.445529860004278,10.906274828427573,10.476831096573909,-0.790747650990328,4.9394360474554,12.221314575146556,-1.866193806283242,-13.040564658818557,-32.11339673113812,5.878304086079343,-21.655664542775618,18.0092498944501,-18.191183258762223,2.501870312550268,10.413869445914836,16.67033409715134,15.44005523660433,29.594344903330313,11.18386096639052,-2.0903581455053084,-11.959339735274755,-1.918979344579193,7.8996732603522535,-20.346386904213905,14.33033740936578,19.471356551124764,18.14728285406237,-14.509367212035844,-20.602829598336964,-18.81617121098583,14.89453044192295,-4.510663176492277,9.907462795479297,-4.897691627365611,8.457629875677116,15.114496241687965,-11.813309156210117,15.588379533766528,13.22930501021927,20.479917575657094,17.927607551162584,22.066666768695917,-9.24727311848926,27.703276784573937,-34.16990331701804,-1.2037726602665195,14.194425462253237,10.46720896361649,-10.965232201897898,2.385378096941798,18.47047983092042,7.68602494758,-0.4072394735794109,6.5463826787531385,-4.591643424501456,3.604686428468135,-11.995715498966547,14.44502609321575,-3.8335601680825686,-0.6600568638195341,-19.086465821531604,-23.688067306953016,-12.846916883057716,-3.83187358262412,12.942746220751957],\"z\":[9.272821874313129,-13.687246995414029,15.368434795894618,12.6165927183172,29.447007444812783,8.354883893134044,12.057315312409951,30.50653210768664,19.02870614529717,-11.982623403623244,-23.435331180466367,31.549129976152408,5.401415362136457,24.538284612438492,17.249106739653506,-4.941926312118239,-21.908367311406394,20.5576287900697,-0.21303765582856915,-16.348107654309093,6.7891300775645576,15.525567585261346,11.89274669396639,-5.5326070413432085,7.260942985919206,22.277322316449485,10.00382137099927,22.59919943572382,17.71698661844742,11.195223219139592,-13.316832236615259,26.631569139041446,-18.866493317878927,-10.280458957691483,-18.234373554274647,3.4805470338436506,-5.381805799321489,11.083970376523666,-4.063436450933172,-13.022347529152144,-4.1010259211266336,-2.5986859281182486,-6.243150796449899,-4.855929905917115,-11.371088451026438,-23.44265082849204,27.710056480482976,2.939938008867647,-7.291132527749422,13.412500909562105,1.4416958268872437,0.3381151194006722,9.298370177252963,4.6252512467676254,17.327158059983184,8.638021318139119,6.2024190086050215,-12.46380650118828,17.479458798988528,11.108940393507249,17.03974542708612,2.773944889096856,9.155581341168899,-0.1523013245523024,-21.363289197640693,-34.951529982283915,-3.782117241990559,21.836405501368063,-17.30128854110048,18.60325436206864,2.2299477751419854,-30.98705187392595,29.453882340720355,33.1512431646582,-10.172205487255356,-14.938146642398227,-0.3037464945979096,-5.357042010981964,-4.802199219619488,-25.25280786866982]}],                        {\"legend\":{\"title\":{\"text\":\"color\"},\"tracegroupgap\":0},\"margin\":{\"t\":60},\"scene\":{\"domain\":{\"x\":[0.0,1.0],\"y\":[0.0,1.0]},\"xaxis\":{\"title\":{\"text\":\"pc1\"}},\"yaxis\":{\"title\":{\"text\":\"pc2\"}},\"zaxis\":{\"title\":{\"text\":\"pc3\"}}},\"template\":{\"data\":{\"bar\":[{\"error_x\":{\"color\":\"#2a3f5f\"},\"error_y\":{\"color\":\"#2a3f5f\"},\"marker\":{\"line\":{\"color\":\"#E5ECF6\",\"width\":0.5},\"pattern\":{\"fillmode\":\"overlay\",\"size\":10,\"solidity\":0.2}},\"type\":\"bar\"}],\"barpolar\":[{\"marker\":{\"line\":{\"color\":\"#E5ECF6\",\"width\":0.5},\"pattern\":{\"fillmode\":\"overlay\",\"size\":10,\"solidity\":0.2}},\"type\":\"barpolar\"}],\"carpet\":[{\"aaxis\":{\"endlinecolor\":\"#2a3f5f\",\"gridcolor\":\"white\",\"linecolor\":\"white\",\"minorgridcolor\":\"white\",\"startlinecolor\":\"#2a3f5f\"},\"baxis\":{\"endlinecolor\":\"#2a3f5f\",\"gridcolor\":\"white\",\"linecolor\":\"white\",\"minorgridcolor\":\"white\",\"startlinecolor\":\"#2a3f5f\"},\"type\":\"carpet\"}],\"choropleth\":[{\"colorbar\":{\"outlinewidth\":0,\"ticks\":\"\"},\"type\":\"choropleth\"}],\"contour\":[{\"colorbar\":{\"outlinewidth\":0,\"ticks\":\"\"},\"colorscale\":[[0.0,\"#0d0887\"],[0.1111111111111111,\"#46039f\"],[0.2222222222222222,\"#7201a8\"],[0.3333333333333333,\"#9c179e\"],[0.4444444444444444,\"#bd3786\"],[0.5555555555555556,\"#d8576b\"],[0.6666666666666666,\"#ed7953\"],[0.7777777777777778,\"#fb9f3a\"],[0.8888888888888888,\"#fdca26\"],[1.0,\"#f0f921\"]],\"type\":\"contour\"}],\"contourcarpet\":[{\"colorbar\":{\"outlinewidth\":0,\"ticks\":\"\"},\"type\":\"contourcarpet\"}],\"heatmap\":[{\"colorbar\":{\"outlinewidth\":0,\"ticks\":\"\"},\"colorscale\":[[0.0,\"#0d0887\"],[0.1111111111111111,\"#46039f\"],[0.2222222222222222,\"#7201a8\"],[0.3333333333333333,\"#9c179e\"],[0.4444444444444444,\"#bd3786\"],[0.5555555555555556,\"#d8576b\"],[0.6666666666666666,\"#ed7953\"],[0.7777777777777778,\"#fb9f3a\"],[0.8888888888888888,\"#fdca26\"],[1.0,\"#f0f921\"]],\"type\":\"heatmap\"}],\"heatmapgl\":[{\"colorbar\":{\"outlinewidth\":0,\"ticks\":\"\"},\"colorscale\":[[0.0,\"#0d0887\"],[0.1111111111111111,\"#46039f\"],[0.2222222222222222,\"#7201a8\"],[0.3333333333333333,\"#9c179e\"],[0.4444444444444444,\"#bd3786\"],[0.5555555555555556,\"#d8576b\"],[0.6666666666666666,\"#ed7953\"],[0.7777777777777778,\"#fb9f3a\"],[0.8888888888888888,\"#fdca26\"],[1.0,\"#f0f921\"]],\"type\":\"heatmapgl\"}],\"histogram\":[{\"marker\":{\"pattern\":{\"fillmode\":\"overlay\",\"size\":10,\"solidity\":0.2}},\"type\":\"histogram\"}],\"histogram2d\":[{\"colorbar\":{\"outlinewidth\":0,\"ticks\":\"\"},\"colorscale\":[[0.0,\"#0d0887\"],[0.1111111111111111,\"#46039f\"],[0.2222222222222222,\"#7201a8\"],[0.3333333333333333,\"#9c179e\"],[0.4444444444444444,\"#bd3786\"],[0.5555555555555556,\"#d8576b\"],[0.6666666666666666,\"#ed7953\"],[0.7777777777777778,\"#fb9f3a\"],[0.8888888888888888,\"#fdca26\"],[1.0,\"#f0f921\"]],\"type\":\"histogram2d\"}],\"histogram2dcontour\":[{\"colorbar\":{\"outlinewidth\":0,\"ticks\":\"\"},\"colorscale\":[[0.0,\"#0d0887\"],[0.1111111111111111,\"#46039f\"],[0.2222222222222222,\"#7201a8\"],[0.3333333333333333,\"#9c179e\"],[0.4444444444444444,\"#bd3786\"],[0.5555555555555556,\"#d8576b\"],[0.6666666666666666,\"#ed7953\"],[0.7777777777777778,\"#fb9f3a\"],[0.8888888888888888,\"#fdca26\"],[1.0,\"#f0f921\"]],\"type\":\"histogram2dcontour\"}],\"mesh3d\":[{\"colorbar\":{\"outlinewidth\":0,\"ticks\":\"\"},\"type\":\"mesh3d\"}],\"parcoords\":[{\"line\":{\"colorbar\":{\"outlinewidth\":0,\"ticks\":\"\"}},\"type\":\"parcoords\"}],\"pie\":[{\"automargin\":true,\"type\":\"pie\"}],\"scatter\":[{\"marker\":{\"colorbar\":{\"outlinewidth\":0,\"ticks\":\"\"}},\"type\":\"scatter\"}],\"scatter3d\":[{\"line\":{\"colorbar\":{\"outlinewidth\":0,\"ticks\":\"\"}},\"marker\":{\"colorbar\":{\"outlinewidth\":0,\"ticks\":\"\"}},\"type\":\"scatter3d\"}],\"scattercarpet\":[{\"marker\":{\"colorbar\":{\"outlinewidth\":0,\"ticks\":\"\"}},\"type\":\"scattercarpet\"}],\"scattergeo\":[{\"marker\":{\"colorbar\":{\"outlinewidth\":0,\"ticks\":\"\"}},\"type\":\"scattergeo\"}],\"scattergl\":[{\"marker\":{\"colorbar\":{\"outlinewidth\":0,\"ticks\":\"\"}},\"type\":\"scattergl\"}],\"scattermapbox\":[{\"marker\":{\"colorbar\":{\"outlinewidth\":0,\"ticks\":\"\"}},\"type\":\"scattermapbox\"}],\"scatterpolar\":[{\"marker\":{\"colorbar\":{\"outlinewidth\":0,\"ticks\":\"\"}},\"type\":\"scatterpolar\"}],\"scatterpolargl\":[{\"marker\":{\"colorbar\":{\"outlinewidth\":0,\"ticks\":\"\"}},\"type\":\"scatterpolargl\"}],\"scatterternary\":[{\"marker\":{\"colorbar\":{\"outlinewidth\":0,\"ticks\":\"\"}},\"type\":\"scatterternary\"}],\"surface\":[{\"colorbar\":{\"outlinewidth\":0,\"ticks\":\"\"},\"colorscale\":[[0.0,\"#0d0887\"],[0.1111111111111111,\"#46039f\"],[0.2222222222222222,\"#7201a8\"],[0.3333333333333333,\"#9c179e\"],[0.4444444444444444,\"#bd3786\"],[0.5555555555555556,\"#d8576b\"],[0.6666666666666666,\"#ed7953\"],[0.7777777777777778,\"#fb9f3a\"],[0.8888888888888888,\"#fdca26\"],[1.0,\"#f0f921\"]],\"type\":\"surface\"}],\"table\":[{\"cells\":{\"fill\":{\"color\":\"#EBF0F8\"},\"line\":{\"color\":\"white\"}},\"header\":{\"fill\":{\"color\":\"#C8D4E3\"},\"line\":{\"color\":\"white\"}},\"type\":\"table\"}]},\"layout\":{\"annotationdefaults\":{\"arrowcolor\":\"#2a3f5f\",\"arrowhead\":0,\"arrowwidth\":1},\"autotypenumbers\":\"strict\",\"coloraxis\":{\"colorbar\":{\"outlinewidth\":0,\"ticks\":\"\"}},\"colorscale\":{\"diverging\":[[0,\"#8e0152\"],[0.1,\"#c51b7d\"],[0.2,\"#de77ae\"],[0.3,\"#f1b6da\"],[0.4,\"#fde0ef\"],[0.5,\"#f7f7f7\"],[0.6,\"#e6f5d0\"],[0.7,\"#b8e186\"],[0.8,\"#7fbc41\"],[0.9,\"#4d9221\"],[1,\"#276419\"]],\"sequential\":[[0.0,\"#0d0887\"],[0.1111111111111111,\"#46039f\"],[0.2222222222222222,\"#7201a8\"],[0.3333333333333333,\"#9c179e\"],[0.4444444444444444,\"#bd3786\"],[0.5555555555555556,\"#d8576b\"],[0.6666666666666666,\"#ed7953\"],[0.7777777777777778,\"#fb9f3a\"],[0.8888888888888888,\"#fdca26\"],[1.0,\"#f0f921\"]],\"sequentialminus\":[[0.0,\"#0d0887\"],[0.1111111111111111,\"#46039f\"],[0.2222222222222222,\"#7201a8\"],[0.3333333333333333,\"#9c179e\"],[0.4444444444444444,\"#bd3786\"],[0.5555555555555556,\"#d8576b\"],[0.6666666666666666,\"#ed7953\"],[0.7777777777777778,\"#fb9f3a\"],[0.8888888888888888,\"#fdca26\"],[1.0,\"#f0f921\"]]},\"colorway\":[\"#636efa\",\"#EF553B\",\"#00cc96\",\"#ab63fa\",\"#FFA15A\",\"#19d3f3\",\"#FF6692\",\"#B6E880\",\"#FF97FF\",\"#FECB52\"],\"font\":{\"color\":\"#2a3f5f\"},\"geo\":{\"bgcolor\":\"white\",\"lakecolor\":\"white\",\"landcolor\":\"#E5ECF6\",\"showlakes\":true,\"showland\":true,\"subunitcolor\":\"white\"},\"hoverlabel\":{\"align\":\"left\"},\"hovermode\":\"closest\",\"mapbox\":{\"style\":\"light\"},\"paper_bgcolor\":\"white\",\"plot_bgcolor\":\"#E5ECF6\",\"polar\":{\"angularaxis\":{\"gridcolor\":\"white\",\"linecolor\":\"white\",\"ticks\":\"\"},\"bgcolor\":\"#E5ECF6\",\"radialaxis\":{\"gridcolor\":\"white\",\"linecolor\":\"white\",\"ticks\":\"\"}},\"scene\":{\"xaxis\":{\"backgroundcolor\":\"#E5ECF6\",\"gridcolor\":\"white\",\"gridwidth\":2,\"linecolor\":\"white\",\"showbackground\":true,\"ticks\":\"\",\"zerolinecolor\":\"white\"},\"yaxis\":{\"backgroundcolor\":\"#E5ECF6\",\"gridcolor\":\"white\",\"gridwidth\":2,\"linecolor\":\"white\",\"showbackground\":true,\"ticks\":\"\",\"zerolinecolor\":\"white\"},\"zaxis\":{\"backgroundcolor\":\"#E5ECF6\",\"gridcolor\":\"white\",\"gridwidth\":2,\"linecolor\":\"white\",\"showbackground\":true,\"ticks\":\"\",\"zerolinecolor\":\"white\"}},\"shapedefaults\":{\"line\":{\"color\":\"#2a3f5f\"}},\"ternary\":{\"aaxis\":{\"gridcolor\":\"white\",\"linecolor\":\"white\",\"ticks\":\"\"},\"baxis\":{\"gridcolor\":\"white\",\"linecolor\":\"white\",\"ticks\":\"\"},\"bgcolor\":\"#E5ECF6\",\"caxis\":{\"gridcolor\":\"white\",\"linecolor\":\"white\",\"ticks\":\"\"}},\"title\":{\"x\":0.05},\"xaxis\":{\"automargin\":true,\"gridcolor\":\"white\",\"linecolor\":\"white\",\"ticks\":\"\",\"title\":{\"standoff\":15},\"zerolinecolor\":\"white\",\"zerolinewidth\":2},\"yaxis\":{\"automargin\":true,\"gridcolor\":\"white\",\"linecolor\":\"white\",\"ticks\":\"\",\"title\":{\"standoff\":15},\"zerolinecolor\":\"white\",\"zerolinewidth\":2}}}},                        {\"responsive\": true}                    ).then(function(){\n",
       "                            \n",
       "var gd = document.getElementById('96f2fd41-4661-4562-8df6-c0889de177d7');\n",
       "var x = new MutationObserver(function (mutations, observer) {{\n",
       "        var display = window.getComputedStyle(gd).display;\n",
       "        if (!display || display === 'none') {{\n",
       "            console.log([gd, 'removed!']);\n",
       "            Plotly.purge(gd);\n",
       "            observer.disconnect();\n",
       "        }}\n",
       "}});\n",
       "\n",
       "// Listen for the removal of the full notebook cells\n",
       "var notebookContainer = gd.closest('#notebook-container');\n",
       "if (notebookContainer) {{\n",
       "    x.observe(notebookContainer, {childList: true});\n",
       "}}\n",
       "\n",
       "// Listen for the clearing of the current output cell\n",
       "var outputEl = gd.closest('.output');\n",
       "if (outputEl) {{\n",
       "    x.observe(outputEl, {childList: true});\n",
       "}}\n",
       "\n",
       "                        })                };                });            </script>        </div>"
      ]
     },
     "metadata": {},
     "output_type": "display_data"
    }
   ],
   "source": [
    "pca = PCA(stand_dog_cat, ncomp=3)\n",
    "\n",
    "pets_t = np.transpose(stand_dog_cat)\n",
    "\n",
    "projection = np.dot(pets_t, pca.factors)\n",
    "\n",
    "df = pd.DataFrame(projection, columns=['pc1', 'pc2', 'pc3'])\n",
    "colors = ['blue' if i < 80  else 'red' for i in range(160)]\n",
    "\n",
    "\n",
    "fig = px.scatter_3d(df, x='pc1', y='pc2', z='pc3', color=colors)\n",
    "fig.show()"
   ]
  },
  {
   "cell_type": "code",
   "execution_count": null,
   "metadata": {},
   "outputs": [],
   "source": []
  }
 ],
 "metadata": {
  "kernelspec": {
   "display_name": "Python 3",
   "language": "python",
   "name": "python3"
  },
  "language_info": {
   "codemirror_mode": {
    "name": "ipython",
    "version": 3
   },
   "file_extension": ".py",
   "mimetype": "text/x-python",
   "name": "python",
   "nbconvert_exporter": "python",
   "pygments_lexer": "ipython3",
   "version": "3.8.8"
  }
 },
 "nbformat": 4,
 "nbformat_minor": 2
}
