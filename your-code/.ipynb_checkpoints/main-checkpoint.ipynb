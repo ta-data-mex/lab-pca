{
 "cells": [
  {
   "cell_type": "markdown",
   "metadata": {},
   "source": [
    "# Before your start:\n",
    "- Read the README.md file\n",
    "- Comment as much as you can and use the resources (README.md file)\n",
    "- Happy learning!"
   ]
  },
  {
   "cell_type": "code",
   "execution_count": 44,
   "metadata": {},
   "outputs": [],
   "source": [
    "# Run this code:\n",
    "\n",
    "%matplotlib inline\n",
    "\n",
    "import matplotlib.pyplot as plt\n",
    "import seaborn as sns"
   ]
  },
  {
   "cell_type": "code",
   "execution_count": 10,
   "metadata": {},
   "outputs": [],
   "source": [
    "# Import numpy and pandas:\n",
    "\n",
    "import numpy as np \n",
    "import pandas as pd \n",
    "\n",
    "import matplotlib.pyplot as plt\n",
    "\n",
    "from scipy.stats import f_oneway, f\n",
    "\n",
    "import statsmodels.api as sm\n",
    "from statsmodels.formula.api import ols\n",
    "\n",
    "import warnings\n",
    "warnings.simplefilter('ignore')\n"
   ]
  },
  {
   "cell_type": "markdown",
   "metadata": {},
   "source": [
    "# Challenge 1 - Reading and Standardizing the Data\n",
    "\n",
    "In this challenge we will work with image data and reduce the dimensions of the data to create a 2 dimensional plot. While we have not worked much with image data before, it can be represented as a numpy array where each pixel is assigned a numeric value. In this lesson, we will look at a dataset of cats and a dataset of dogs and see whether reducing them to two dimensions allows us to see if the data is separable. We will start by loading and processing the data. Run the cell below to load the two csv files and convert them into numpy arrays."
   ]
  },
  {
   "cell_type": "code",
   "execution_count": 8,
   "metadata": {},
   "outputs": [],
   "source": [
    "# Run this code\n",
    "\n",
    "cats = np.array(pd.read_csv(\"https://raw.githubusercontent.com/bioramble/pca/master/cat.csv\", header=None))\n",
    "dogs = np.array(pd.read_csv(\"https://raw.githubusercontent.com/bioramble/pca/master/dog.csv\", header=None))"
   ]
  },
  {
   "cell_type": "markdown",
   "metadata": {},
   "source": [
    "Next, we'll examine the shape of both the cats and the dogs arrays. Print out both shapes below."
   ]
  },
  {
   "cell_type": "code",
   "execution_count": 11,
   "metadata": {},
   "outputs": [
    {
     "data": {
      "text/plain": [
       "(4096, 80)"
      ]
     },
     "execution_count": 11,
     "metadata": {},
     "output_type": "execute_result"
    }
   ],
   "source": [
    "# Your code here:\n",
    "np.shape(cats)"
   ]
  },
  {
   "cell_type": "code",
   "execution_count": 12,
   "metadata": {},
   "outputs": [
    {
     "data": {
      "text/plain": [
       "(4096, 80)"
      ]
     },
     "execution_count": 12,
     "metadata": {},
     "output_type": "execute_result"
    }
   ],
   "source": [
    "np.shape(dogs)"
   ]
  },
  {
   "cell_type": "markdown",
   "metadata": {},
   "source": [
    "What this means is that both arrays contain 80 images each (the number of columns). Each image is comprised of 64x64 pixels (so a total of 4096 pixels per image). The images have been flattened such that all 4096 are in a single row.\n",
    "\n",
    "Print out column 0 of the cats array to see what the pixels values look like."
   ]
  },
  {
   "cell_type": "code",
   "execution_count": 14,
   "metadata": {},
   "outputs": [
    {
     "data": {
      "text/plain": [
       "array([ 64,  23, 250, 137,  55, 173,  18, 134,  19,  47, 109, 164,  41,\n",
       "        78, 108, 108, 247, 105, 158,  54, 103,   4,  23, 102, 239,  72,\n",
       "        42,  21, 168, 109, 112, 177,  22, 233,  15, 236, 250, 137,  32,\n",
       "         5, 178, 109,  24, 107,  53, 241, 226, 143,   5, 136,  98, 100,\n",
       "        89,  66, 228,  92, 255,  88, 230,  56, 160,  69,   6,  24, 195,\n",
       "       183, 239,  35, 154, 154, 122,  18,  87, 106, 174,  69,  28,  60,\n",
       "       223, 101], dtype=int64)"
      ]
     },
     "execution_count": 14,
     "metadata": {},
     "output_type": "execute_result"
    }
   ],
   "source": [
    "# Your code here:\n",
    "cats[0]"
   ]
  },
  {
   "cell_type": "markdown",
   "metadata": {},
   "source": [
    "Using `matplotlib` we can plot a single cat or a single dog. We do this by reshaping the vector back to a 64x64 image and then using the `imshow` function.\n",
    "\n",
    "Run the code below to look at the first dog and the first cat."
   ]
  },
  {
   "cell_type": "code",
   "execution_count": 15,
   "metadata": {},
   "outputs": [
    {
     "data": {
      "text/plain": [
       "<matplotlib.image.AxesImage at 0x211e536a490>"
      ]
     },
     "execution_count": 15,
     "metadata": {},
     "output_type": "execute_result"
    },
    {
     "data": {
      "image/png": "[encoded data removed]",
      "text/plain": [
       "<Figure size 432x288 with 1 Axes>"
      ]
     },
     "metadata": {
      "needs_background": "light"
     },
     "output_type": "display_data"
    }
   ],
   "source": [
    "# Run this code:\n",
    "\n",
    "fig, ax = plt.subplots()\n",
    "ax.imshow(cats[:,0].reshape(64, 64).T, cmap=plt.cm.bone, interpolation='nearest') "
   ]
  },
  {
   "cell_type": "code",
   "execution_count": 16,
   "metadata": {},
   "outputs": [
    {
     "data": {
      "text/plain": [
       "<matplotlib.image.AxesImage at 0x211e748bb50>"
      ]
     },
     "execution_count": 16,
     "metadata": {},
     "output_type": "execute_result"
    },
    {
     "data": {
      "image/png": "[encoded data removed]",
      "text/plain": [
       "<Figure size 432x288 with 1 Axes>"
      ]
     },
     "metadata": {
      "needs_background": "light"
     },
     "output_type": "display_data"
    }
   ],
   "source": [
    "# Run this code:\n",
    "\n",
    "fig, ax = plt.subplots()\n",
    "ax.imshow(dogs[:,0].reshape(64, 64).T, cmap=plt.cm.bone, interpolation='nearest') "
   ]
  },
  {
   "cell_type": "markdown",
   "metadata": {},
   "source": [
    "Next, we would like to create a standardization function. This function will find the mean and standard deviation of each image. We subtract the mean from each pixel and divide each pixel by the standard deviation. Write the function below.\n",
    "\n",
    "Hint: To find the mean and standard deviation of each image, use `numpy`'s version of mean and stadnard deviation and use `axis=0`."
   ]
  },
  {
   "cell_type": "code",
   "execution_count": 21,
   "metadata": {},
   "outputs": [],
   "source": [
    "def standardize(x):\n",
    "   \n",
    "    \n",
    "    #This function takes as input a numpy array and returns a stadardized numpy array of the same dimensions.\n",
    "    #Sample input: np.array([[1,2,3],[4,5,6]])\n",
    "    #Sample output: np.array([[-1,-1,-1],[1,1,1]])\n",
    "    \n",
    "    # Your code here:\n",
    "    \n",
    "    for i in x:\n",
    "        media=np.mean(i)\n",
    "        std=np.std(i)\n",
    "        standarized_cat=[]\n",
    "        for j in i:\n",
    "            standarized_pixel=(j-media)/std\n",
    "            standarized_cat.append(standarized_pixel)\n",
    "        standarized_cat.append(standarized_cat)\n",
    "    return np.array(standarized_cat)"
   ]
  },
  {
   "cell_type": "code",
   "execution_count": 22,
   "metadata": {},
   "outputs": [],
   "source": [
    "cats1=standardize(cats)"
   ]
  },
  {
   "cell_type": "markdown",
   "metadata": {},
   "source": [
    "Now, use the `np.concatenate` function to combine the cats and dogs arrays. Use `axis=1` to combine the two correctly. Make sure to put dogs first."
   ]
  },
  {
   "cell_type": "code",
   "execution_count": 24,
   "metadata": {},
   "outputs": [],
   "source": [
    "# Your code here:\n",
    "\n",
    "catdog=np.concatenate((dogs,cats),axis=1)"
   ]
  },
  {
   "cell_type": "markdown",
   "metadata": {},
   "source": [
    "Standardize the concatenated array below."
   ]
  },
  {
   "cell_type": "code",
   "execution_count": 25,
   "metadata": {},
   "outputs": [
    {
     "data": {
      "text/plain": [
       "array([-0.12602344685241976, 0.22212765812117152, -0.06799826269015455,\n",
       "       -0.22756751913638387, -0.009973078527889333, -1.57665305090905,\n",
       "       0.48324098685136496, -1.475108978625086, -0.5176934399477099,\n",
       "       0.7008354274598595, -0.3000989993392154, -0.619237512231674,\n",
       "       1.9048579988268626, 0.6428102432975943, -0.24207381517695017,\n",
       "       0.48324098685136496, -1.054426393448663, 1.2375683809608127,\n",
       "       -0.8078193607590359, -1.2285019459354587, -1.3735649063411217,\n",
       "       -0.8368319528401685, -1.3445523142599891, -0.8658445449213011,\n",
       "       -0.16954233497411866, 1.8903517027862964, -1.0834389855297957,\n",
       "       -1.097945281570362, -1.5041215707062185, 0.7298480195409921,\n",
       "       0.48324098685136496, 0.9909613482711855, -0.19855492705525127,\n",
       "       1.774301334461766, -1.4170837944628207, 0.10607728979664109,\n",
       "       0.22212765812117152, -0.8078193607590359, 0.32367173040513564,\n",
       "       -0.15503603893355236, 1.5276943017721387, -0.21306122309581757,\n",
       "       1.4116439334476083, -0.3436178874609143, 0.7878732037032573,\n",
       "       0.09157099375607479, 1.353618749285343, -1.5331341627873512,\n",
       "       0.8458983878655225, 0.1786087699994726, 0.48324098685136496,\n",
       "       -0.6337438082722403, 0.2076213620806052, -1.199489353854326,\n",
       "       0.1786087699994726, 0.36719061852683454, 1.9338705909079952,\n",
       "       -0.05349196664958824, 1.3826313413664757, -0.6482501043128066,\n",
       "       -0.9238697290835663, 0.6137976512164617, 0.41070950664853345,\n",
       "       -1.1124515776109283, 0.41070950664853345, -0.45966825578544473,\n",
       "       -0.6482501043128066, -0.22756751913638387, 0.048052105634375876,\n",
       "       -1.57665305090905, -1.57665305090905, 0.06255840167494219,\n",
       "       -1.5621467548684838, 1.6002257819749703, 0.1931150660400389,\n",
       "       0.9619487561900529, -1.3735649063411217, -1.475108978625086,\n",
       "       0.45422839477023236, 0.9039235720277877, -0.6917689924345055,\n",
       "       -1.4460963865439533, 1.9628831829891278, 0.22212765812117152,\n",
       "       -0.8223256567996022, -0.9238697290835663, -0.5612123280694088,\n",
       "       0.07706469771550849, 1.1650369007579813, -0.8948571370024337,\n",
       "       1.339112453244777, 1.774301334461766, -0.9238697290835663,\n",
       "       -1.097945281570362, 0.48324098685136496, -0.21306122309581757,\n",
       "       -0.44516195974487843, -0.952882321164699, 0.8458983878655225,\n",
       "       -0.14052974289298606, -1.431590090503387, -0.8658445449213011,\n",
       "       0.8313920918249562, 1.20855578887968, -0.6047312161911077,\n",
       "       -0.5757186241099751, 1.107011716595716, 1.2665809730419453,\n",
       "       -0.8078193607590359, -0.19855492705525127, -1.431590090503387,\n",
       "       0.7443543155815584, -1.2720208340571577, -1.475108978625086,\n",
       "       -0.8513382488807348, 1.6582509661372355, -0.9238697290835663,\n",
       "       1.1940494928391139, 1.1795431967985475, -0.8658445449213011,\n",
       "       0.918429868068354, 0.26564654624287043, -0.8658445449213011,\n",
       "       -1.57665305090905, -1.2139956498948925, 0.8749109799466551,\n",
       "       1.1795431967985475, 2.064427255273092, -0.5612123280694088,\n",
       "       -0.5902249201505414, -1.3590586103005555, 0.2511402502023041,\n",
       "       1.353618749285343, 1.5712131898938377, 1.1940494928391139,\n",
       "       1.0054676443117518, 1.8178202225834648, -0.7933130647184696,\n",
       "       -0.5757186241099751, 2.122452439435357, 1.629238374056103,\n",
       "       -0.45966825578544473, -0.24207381517695017, 0.5122535789324976,\n",
       "       0.004533217512676969, -1.1124515776109283, -0.9673886172052653,\n",
       "       0.918429868068354, -0.15503603893355236, 0.45422839477023236,\n",
       "       0.42521580268909975, 0.8168857957843899, -0.6337438082722403,\n",
       "       1.353618749285343, -1.0834389855297957, -0.619237512231674,\n",
       "       0.5122535789324976, -0.06799826269015455, 0.9909613482711855,\n",
       "       0.06255840167494219,\n",
       "       list([-0.12602344685241976, 0.22212765812117152, -0.06799826269015455, -0.22756751913638387, -0.009973078527889333, -1.57665305090905, 0.48324098685136496, -1.475108978625086, -0.5176934399477099, 0.7008354274598595, -0.3000989993392154, -0.619237512231674, 1.9048579988268626, 0.6428102432975943, -0.24207381517695017, 0.48324098685136496, -1.054426393448663, 1.2375683809608127, -0.8078193607590359, -1.2285019459354587, -1.3735649063411217, -0.8368319528401685, -1.3445523142599891, -0.8658445449213011, -0.16954233497411866, 1.8903517027862964, -1.0834389855297957, -1.097945281570362, -1.5041215707062185, 0.7298480195409921, 0.48324098685136496, 0.9909613482711855, -0.19855492705525127, 1.774301334461766, -1.4170837944628207, 0.10607728979664109, 0.22212765812117152, -0.8078193607590359, 0.32367173040513564, -0.15503603893355236, 1.5276943017721387, -0.21306122309581757, 1.4116439334476083, -0.3436178874609143, 0.7878732037032573, 0.09157099375607479, 1.353618749285343, -1.5331341627873512, 0.8458983878655225, 0.1786087699994726, 0.48324098685136496, -0.6337438082722403, 0.2076213620806052, -1.199489353854326, 0.1786087699994726, 0.36719061852683454, 1.9338705909079952, -0.05349196664958824, 1.3826313413664757, -0.6482501043128066, -0.9238697290835663, 0.6137976512164617, 0.41070950664853345, -1.1124515776109283, 0.41070950664853345, -0.45966825578544473, -0.6482501043128066, -0.22756751913638387, 0.048052105634375876, -1.57665305090905, -1.57665305090905, 0.06255840167494219, -1.5621467548684838, 1.6002257819749703, 0.1931150660400389, 0.9619487561900529, -1.3735649063411217, -1.475108978625086, 0.45422839477023236, 0.9039235720277877, -0.6917689924345055, -1.4460963865439533, 1.9628831829891278, 0.22212765812117152, -0.8223256567996022, -0.9238697290835663, -0.5612123280694088, 0.07706469771550849, 1.1650369007579813, -0.8948571370024337, 1.339112453244777, 1.774301334461766, -0.9238697290835663, -1.097945281570362, 0.48324098685136496, -0.21306122309581757, -0.44516195974487843, -0.952882321164699, 0.8458983878655225, -0.14052974289298606, -1.431590090503387, -0.8658445449213011, 0.8313920918249562, 1.20855578887968, -0.6047312161911077, -0.5757186241099751, 1.107011716595716, 1.2665809730419453, -0.8078193607590359, -0.19855492705525127, -1.431590090503387, 0.7443543155815584, -1.2720208340571577, -1.475108978625086, -0.8513382488807348, 1.6582509661372355, -0.9238697290835663, 1.1940494928391139, 1.1795431967985475, -0.8658445449213011, 0.918429868068354, 0.26564654624287043, -0.8658445449213011, -1.57665305090905, -1.2139956498948925, 0.8749109799466551, 1.1795431967985475, 2.064427255273092, -0.5612123280694088, -0.5902249201505414, -1.3590586103005555, 0.2511402502023041, 1.353618749285343, 1.5712131898938377, 1.1940494928391139, 1.0054676443117518, 1.8178202225834648, -0.7933130647184696, -0.5757186241099751, 2.122452439435357, 1.629238374056103, -0.45966825578544473, -0.24207381517695017, 0.5122535789324976, 0.004533217512676969, -1.1124515776109283, -0.9673886172052653, 0.918429868068354, -0.15503603893355236, 0.45422839477023236, 0.42521580268909975, 0.8168857957843899, -0.6337438082722403, 1.353618749285343, -1.0834389855297957, -0.619237512231674, 0.5122535789324976, -0.06799826269015455, 0.9909613482711855, 0.06255840167494219, [...]])],\n",
       "      dtype=object)"
      ]
     },
     "execution_count": 25,
     "metadata": {},
     "output_type": "execute_result"
    }
   ],
   "source": [
    "# Your code here:\n",
    "\n",
    "standardize(catdog)"
   ]
  },
  {
   "cell_type": "markdown",
   "metadata": {},
   "source": [
    "# Challenge 2 - Using PCA\n",
    "\n",
    "Now that we have created a standardized matrix of cats and dogs, we'll find the two most important components in the data.\n",
    "\n",
    "Load the `PCA` function from `statsmodels` (read about this function [here](https://www.statsmodels.org/dev/generated/statsmodels.multivariate.pca.PCA.html)) and apply the function to our standarized data. Create a PCA model with two components."
   ]
  },
  {
   "cell_type": "code",
   "execution_count": 27,
   "metadata": {},
   "outputs": [],
   "source": [
    "# Your code here:\n",
    "\n",
    "from statsmodels.multivariate.pca import PCA"
   ]
  },
  {
   "cell_type": "code",
   "execution_count": 30,
   "metadata": {},
   "outputs": [],
   "source": [
    "pca=PCA(catdog,ncomp=2)"
   ]
  },
  {
   "cell_type": "markdown",
   "metadata": {},
   "source": [
    "Use `numpy` to find to transpose the standardized pet array. This will help us compute the projection."
   ]
  },
  {
   "cell_type": "code",
   "execution_count": 31,
   "metadata": {},
   "outputs": [],
   "source": [
    "# Your code here:\n",
    "a=np.transpose(catdog)"
   ]
  },
  {
   "cell_type": "markdown",
   "metadata": {},
   "source": [
    "Find the dot product of the transposed standardized pet matrix and the `factors` of the `PCA` model found above. This will be the projection onto 2 dimensions. This means that each cat and dog image will now only have two columns instead of 4096."
   ]
  },
  {
   "cell_type": "code",
   "execution_count": 33,
   "metadata": {},
   "outputs": [],
   "source": [
    "# Your code here:\n",
    "dot=np.dot(a,pca.factors)"
   ]
  },
  {
   "cell_type": "markdown",
   "metadata": {},
   "source": [
    "# Challenge 3 - Plotting the Data\n",
    "\n",
    "Now that we have reduced our cats and dogs arrays, we can easily plot the data in a way that the human eye can understand. We can look at this plot to see whether there are differences between the cat and dog images. \n",
    "\n",
    "In the cell below, turn the two dimensional projection into a pandas dataframe and name the columns `pc1`, and `pc2` respectively."
   ]
  },
  {
   "cell_type": "code",
   "execution_count": 34,
   "metadata": {},
   "outputs": [],
   "source": [
    "# Your code here:\n",
    "\n",
    "dfcatdog=pd.DataFrame(dot,columns=['pc1','pc2'])"
   ]
  },
  {
   "cell_type": "markdown",
   "metadata": {},
   "source": [
    "Create a labels list. This list will be of size 160. The first 80 elements in the list will be the word `blue`, and the last 80 elements will be `red`. This will ensure that all dog observations will be colored in blue and all cats will be colored in red. Name this list `colors`."
   ]
  },
  {
   "cell_type": "code",
   "execution_count": 41,
   "metadata": {},
   "outputs": [],
   "source": [
    "# Your code here:\n",
    "colors=[]\n",
    "for i in range(1,161):\n",
    "    if i<=80:\n",
    "        a='blue'\n",
    "    else:\n",
    "        a='red'\n",
    "    colors.append(a)\n"
   ]
  },
  {
   "cell_type": "markdown",
   "metadata": {},
   "source": [
    "Create a scatter plot of `pc1` and `pc2` below. Use the `colors` list above to color the observations by setting `c=colors`."
   ]
  },
  {
   "cell_type": "code",
   "execution_count": 45,
   "metadata": {},
   "outputs": [
    {
     "data": {
      "text/plain": [
       "<AxesSubplot:xlabel='pc1', ylabel='pc2'>"
      ]
     },
     "execution_count": 45,
     "metadata": {},
     "output_type": "execute_result"
    },
    {
     "data": {
      "image/png": "[encoded data removed]",
      "text/plain": [
       "<Figure size 432x288 with 1 Axes>"
      ]
     },
     "metadata": {
      "needs_background": "light"
     },
     "output_type": "display_data"
    }
   ],
   "source": [
    "# Your code here:\n",
    "\n",
    "sns.scatterplot(x='pc1',y='pc2',data=dfcatdog,c=colors)"
   ]
  },
  {
   "cell_type": "markdown",
   "metadata": {},
   "source": [
    "Do you see a clear separation between cats and dogs? Write your answer below."
   ]
  },
  {
   "cell_type": "code",
   "execution_count": 18,
   "metadata": {},
   "outputs": [],
   "source": [
    "# Your conclusions here:\n",
    "\n",
    "#se ve una separacion entre los perros y los gatos."
   ]
  }
 ],
 "metadata": {
  "kernelspec": {
   "display_name": "Python 3 (ipykernel)",
   "language": "python",
   "name": "python3"
  },
  "language_info": {
   "codemirror_mode": {
    "name": "ipython",
    "version": 3
   },
   "file_extension": ".py",
   "mimetype": "text/x-python",
   "name": "python",
   "nbconvert_exporter": "python",
   "pygments_lexer": "ipython3",
   "version": "3.9.6"
  }
 },
 "nbformat": 4,
 "nbformat_minor": 2
}
