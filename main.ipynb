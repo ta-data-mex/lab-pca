{
  "nbformat": 4,
  "nbformat_minor": 0,
  "metadata": {
    "kernelspec": {
      "display_name": "Python 3",
      "language": "python",
      "name": "python3"
    },
    "language_info": {
      "codemirror_mode": {
        "name": "ipython",
        "version": 3
      },
      "file_extension": ".py",
      "mimetype": "text/x-python",
      "name": "python",
      "nbconvert_exporter": "python",
      "pygments_lexer": "ipython3",
      "version": "3.6.6"
    },
    "colab": {
      "name": "main.ipynb",
      "provenance": [],
      "collapsed_sections": [
        "824ArS2_Q4l_"
      ],
      "include_colab_link": true
    }
  },
  "cells": [
    {
      "cell_type": "markdown",
      "metadata": {
        "id": "view-in-github",
        "colab_type": "text"
      },
      "source": [
        "<a href=\"https://colab.research.google.com/github/juanmanuelvillacis/lab-pca/blob/master/main.ipynb\" target=\"_parent\"><img src=\"https://colab.research.google.com/assets/colab-badge.svg\" alt=\"Open In Colab\"/></a>"
      ]
    },
    {
      "cell_type": "markdown",
      "metadata": {
        "id": "824ArS2_Q4l_"
      },
      "source": [
        "# Before your start:\n",
        "- Read the README.md file\n",
        "- Comment as much as you can and use the resources (README.md file)\n",
        "- Happy learning!"
      ]
    },
    {
      "cell_type": "code",
      "metadata": {
        "id": "H5h04AupQ4mM"
      },
      "source": [
        "# Run this code:\n",
        "\n",
        "%matplotlib inline\n",
        "\n",
        "import matplotlib.pyplot as plt"
      ],
      "execution_count": null,
      "outputs": []
    },
    {
      "cell_type": "code",
      "metadata": {
        "id": "WQzFLhW4Q4mb"
      },
      "source": [
        "# Import numpy and pandas:\n",
        "import numpy as np\n",
        "import pandas as pd\n"
      ],
      "execution_count": null,
      "outputs": []
    },
    {
      "cell_type": "markdown",
      "metadata": {
        "id": "n-H6A2OxQ4mh"
      },
      "source": [
        "# Challenge 1 - Reading and Standardizing the Data\n",
        "\n",
        "In this challenge we will work with image data and reduce the dimensions of the data to create a 2 dimensional plot. While we have not worked much with image data before, it can be represented as a numpy array where each pixel is assigned a numeric value. In this lesson, we will look at a dataset of cats and a dataset of dogs and see whether reducing them to two dimensions allows us to see if the data is separable. We will start by loading and processing the data. Run the cell below to load the two csv files and convert them into numpy arrays."
      ]
    },
    {
      "cell_type": "code",
      "metadata": {
        "id": "5IlJR_rLQ4mj"
      },
      "source": [
        "# Run this code\n",
        "\n",
        "cats = np.array(pd.read_csv(\"https://raw.githubusercontent.com/bioramble/pca/master/cat.csv\", header=None))\n",
        "dogs = np.array(pd.read_csv(\"https://raw.githubusercontent.com/bioramble/pca/master/dog.csv\", header=None))"
      ],
      "execution_count": null,
      "outputs": []
    },
    {
      "cell_type": "markdown",
      "metadata": {
        "id": "eLoPYQUcQ4mv"
      },
      "source": [
        "Next, we'll examine the shape of both the cats and the dogs arrays. Print out both shapes below."
      ]
    },
    {
      "cell_type": "code",
      "metadata": {
        "colab": {
          "base_uri": "https://localhost:8080/"
        },
        "id": "uwDaURutQ4m0",
        "outputId": "1a0a30e8-37a2-45a2-ac83-6cb97ecda8c7"
      },
      "source": [
        "# Your code here:\n",
        "cats.shape , dogs.shape\n"
      ],
      "execution_count": null,
      "outputs": [
        {
          "output_type": "execute_result",
          "data": {
            "text/plain": [
              "((4096, 80), (4096, 80))"
            ]
          },
          "metadata": {},
          "execution_count": 10
        }
      ]
    },
    {
      "cell_type": "markdown",
      "metadata": {
        "id": "JzNaGQV5Q4m2"
      },
      "source": [
        "What this means is that both arrays contain 80 images each (the number of columns). Each image is comprised of 64x64 pixels (so a total of 4096 pixels per image). The images have been flattened such that all 4096 are in a single row.\n",
        "\n",
        "Print out column 0 of the cats array to see what the pixels values look like."
      ]
    },
    {
      "cell_type": "code",
      "metadata": {
        "colab": {
          "base_uri": "https://localhost:8080/"
        },
        "id": "B_5fG3cbQ4nD",
        "outputId": "941bcc9d-63b4-4990-cb1e-c8e29a06df90"
      },
      "source": [
        "# Your code here:\n",
        "cats[0]"
      ],
      "execution_count": null,
      "outputs": [
        {
          "output_type": "execute_result",
          "data": {
            "text/plain": [
              "array([ 64,  23, 250, 137,  55, 173,  18, 134,  19,  47, 109, 164,  41,\n",
              "        78, 108, 108, 247, 105, 158,  54, 103,   4,  23, 102, 239,  72,\n",
              "        42,  21, 168, 109, 112, 177,  22, 233,  15, 236, 250, 137,  32,\n",
              "         5, 178, 109,  24, 107,  53, 241, 226, 143,   5, 136,  98, 100,\n",
              "        89,  66, 228,  92, 255,  88, 230,  56, 160,  69,   6,  24, 195,\n",
              "       183, 239,  35, 154, 154, 122,  18,  87, 106, 174,  69,  28,  60,\n",
              "       223, 101])"
            ]
          },
          "metadata": {},
          "execution_count": 11
        }
      ]
    },
    {
      "cell_type": "markdown",
      "metadata": {
        "id": "hlMwn40FQ4nF"
      },
      "source": [
        "Using `matplotlib` we can plot a single cat or a single dog. We do this by reshaping the vector back to a 64x64 image and then using the `imshow` function.\n",
        "\n",
        "Run the code below to look at the first dog and the first cat."
      ]
    },
    {
      "cell_type": "code",
      "metadata": {
        "colab": {
          "base_uri": "https://localhost:8080/",
          "height": 285
        },
        "id": "Pa2ADMklQ4nG",
        "outputId": "308c84b7-47cc-43f4-e911-fb85ed691013"
      },
      "source": [
        "# Run this code:\n",
        "\n",
        "fig, ax = plt.subplots()\n",
        "ax.imshow(cats[:,0].reshape(64, 64).T, cmap=plt.cm.bone, interpolation='nearest') "
      ],
      "execution_count": null,
      "outputs": [
        {
          "output_type": "execute_result",
          "data": {
            "text/plain": [
              "<matplotlib.image.AxesImage at 0x7fcf661e91d0>"
            ]
          },
          "metadata": {},
          "execution_count": 12
        },
        {
          "output_type": "display_data",
          "data": {
            "image/png": "[encoded data removed]",
            "text/plain": [
              "<Figure size 432x288 with 1 Axes>"
            ]
          },
          "metadata": {
            "needs_background": "light"
          }
        }
      ]
    },
    {
      "cell_type": "code",
      "metadata": {
        "colab": {
          "base_uri": "https://localhost:8080/",
          "height": 285
        },
        "id": "DVZZhVzMQ4nH",
        "outputId": "c40b22c5-afc1-47f4-8b0f-6a1468cca54b"
      },
      "source": [
        "# Run this code:\n",
        "\n",
        "fig, ax = plt.subplots()\n",
        "ax.imshow(dogs[:,0].reshape(64, 64).T, cmap=plt.cm.bone, interpolation='nearest') "
      ],
      "execution_count": null,
      "outputs": [
        {
          "output_type": "execute_result",
          "data": {
            "text/plain": [
              "<matplotlib.image.AxesImage at 0x7fcf661787d0>"
            ]
          },
          "metadata": {},
          "execution_count": 13
        },
        {
          "output_type": "display_data",
          "data": {
            "image/png": "[encoded data removed]",
            "text/plain": [
              "<Figure size 432x288 with 1 Axes>"
            ]
          },
          "metadata": {
            "needs_background": "light"
          }
        }
      ]
    },
    {
      "cell_type": "markdown",
      "metadata": {
        "id": "U7MaoKlPQ4nH"
      },
      "source": [
        "Next, we would like to create a standardization function. This function will find the mean and standard deviation of each image. We subtract the mean from each pixel and divide each pixel by the standard deviation. Write the function below.\n",
        "\n",
        "Hint: To find the mean and standard deviation of each image, use `numpy`'s version of mean and stadnard deviation and use `axis=0`."
      ]
    },
    {
      "cell_type": "code",
      "metadata": {
        "id": "du9ynJyYQ4nI"
      },
      "source": [
        "def standardize(x):\n",
        "    #This function takes as input a numpy array and returns a stadardized numpy array of the same dimensions.\n",
        "    #Sample input: np.array([[1,2,3],[4,5,6]])\n",
        "    #Sample output: np.array([[-1,-1,-1],[1,1,1]])\n",
        "    \n",
        "    # Your code here:\n",
        "    l0=[]\n",
        "    l1=[]\n",
        "    for i in x:\n",
        "      m= np.mean(i,axis=0)\n",
        "      s = np.std(i,axis=0)\n",
        "      \n",
        "      for a in i:\n",
        "        r = (a-m)/s\n",
        "        l1.append(r)\n",
        "      l0.append(l1)\n",
        "      l1=[]\n",
        "    return l0\n"
      ],
      "execution_count": null,
      "outputs": []
    },
    {
      "cell_type": "code",
      "metadata": {
        "id": "VzQCvV4w00pB"
      },
      "source": [
        "test = np.array(standardize(dogs))"
      ],
      "execution_count": null,
      "outputs": []
    },
    {
      "cell_type": "code",
      "metadata": {
        "colab": {
          "base_uri": "https://localhost:8080/"
        },
        "id": "roks6-M11eEf",
        "outputId": "0b9b7248-e8e6-476a-ebd4-b579eb7de374"
      },
      "source": [
        "test.shape, dogs.shape"
      ],
      "execution_count": null,
      "outputs": [
        {
          "output_type": "execute_result",
          "data": {
            "text/plain": [
              "((4096, 80), (4096, 80))"
            ]
          },
          "metadata": {},
          "execution_count": 16
        }
      ]
    },
    {
      "cell_type": "markdown",
      "metadata": {
        "id": "OOlaJ0NeQ4nJ"
      },
      "source": [
        "Now, use the `np.concatenate` function to combine the cats and dogs arrays. Use `axis=1` to combine the two correctly. Make sure to put dogs first."
      ]
    },
    {
      "cell_type": "code",
      "metadata": {
        "colab": {
          "base_uri": "https://localhost:8080/"
        },
        "id": "r09zSOPhQ4nL",
        "outputId": "9d4b0468-7f7f-4c64-b7e3-82bdd91a6f75"
      },
      "source": [
        "# Your code here:\n",
        "con = np.concatenate((dogs,cats),axis=1)\n",
        "con.shape"
      ],
      "execution_count": null,
      "outputs": [
        {
          "output_type": "execute_result",
          "data": {
            "text/plain": [
              "(4096, 160)"
            ]
          },
          "metadata": {},
          "execution_count": 17
        }
      ]
    },
    {
      "cell_type": "markdown",
      "metadata": {
        "id": "dmT7UDzaQ4nM"
      },
      "source": [
        "Standardize the concatenated array below."
      ]
    },
    {
      "cell_type": "code",
      "metadata": {
        "id": "X9xiVpmZ38v-"
      },
      "source": [
        "from sklearn.preprocessing import StandardScaler"
      ],
      "execution_count": null,
      "outputs": []
    },
    {
      "cell_type": "code",
      "metadata": {
        "colab": {
          "base_uri": "https://localhost:8080/"
        },
        "id": "9CKQnpQE5bFF",
        "outputId": "e90f9221-6937-428b-ca36-753304507108"
      },
      "source": [
        "test_2 = np.array(standardize(con))\n",
        "test_2.shape"
      ],
      "execution_count": null,
      "outputs": [
        {
          "output_type": "execute_result",
          "data": {
            "text/plain": [
              "(4096, 160)"
            ]
          },
          "metadata": {},
          "execution_count": 19
        }
      ]
    },
    {
      "cell_type": "code",
      "metadata": {
        "id": "VHQ3-ArTQ4nQ"
      },
      "source": [
        "\n",
        "# Your code here:\n",
        "scaler = StandardScaler()\n",
        "stand_data = scaler.fit_transform(con)"
      ],
      "execution_count": null,
      "outputs": []
    },
    {
      "cell_type": "code",
      "metadata": {
        "colab": {
          "base_uri": "https://localhost:8080/"
        },
        "id": "Nf58YiVK5Gjq",
        "outputId": "69887e9e-4ea4-4c55-9544-5ac40131accc"
      },
      "source": [
        "stand_data.shape"
      ],
      "execution_count": null,
      "outputs": [
        {
          "output_type": "execute_result",
          "data": {
            "text/plain": [
              "(4096, 160)"
            ]
          },
          "metadata": {},
          "execution_count": 21
        }
      ]
    },
    {
      "cell_type": "markdown",
      "metadata": {
        "id": "mDnbthwhQ4nT"
      },
      "source": [
        "# Challenge 2 - Using PCA\n",
        "\n",
        "Now that we have created a standardized matrix of cats and dogs, we'll find the two most important components in the data.\n",
        "\n",
        "Load the `PCA` function from `statsmodels` (read about this function [here](https://www.statsmodels.org/dev/generated/statsmodels.multivariate.pca.PCA.html)) and apply the function to our standarized data. Create a PCA model with two components."
      ]
    },
    {
      "cell_type": "code",
      "metadata": {
        "id": "Mc8uKQyCQ4nT"
      },
      "source": [
        "# Your code here:\n",
        "#from statsmodels.multivariate.pca import PCA\n",
        "from sklearn.decomposition import PCA\n",
        "pca= PCA(n_components = 2)\n",
        "concat_pca = pca.fit(stand_data)"
      ],
      "execution_count": null,
      "outputs": []
    },
    {
      "cell_type": "code",
      "metadata": {
        "colab": {
          "base_uri": "https://localhost:8080/"
        },
        "id": "3ZXN9nHoO1s3",
        "outputId": "97968016-b831-4fa6-a3ab-223715d0a3e6"
      },
      "source": [
        "pca"
      ],
      "execution_count": null,
      "outputs": [
        {
          "output_type": "execute_result",
          "data": {
            "text/plain": [
              "Principal Component Analysis(nobs: 4096, nvar: 160, transformation: Standardize (Correlation), normalization: True, number of components: 160, SVD, id: 0x7fcf65cb3350)"
            ]
          },
          "metadata": {},
          "execution_count": 27
        }
      ]
    },
    {
      "cell_type": "markdown",
      "metadata": {
        "id": "zbnFg3RXQ4nU"
      },
      "source": [
        "Use `numpy` to find to transpose the standardized pet array. This will help us compute the projection."
      ]
    },
    {
      "cell_type": "code",
      "metadata": {
        "id": "Fvi8gS_MQ4nU"
      },
      "source": [
        "# Your code here:\n",
        "concat_transpose = np.transpose(stand_data)"
      ],
      "execution_count": null,
      "outputs": []
    },
    {
      "cell_type": "markdown",
      "metadata": {
        "id": "yaTErbrvQ4nU"
      },
      "source": [
        "Find the dot product of the transposed standardized pet matrix and the `factors` of the `PCA` model found above. This will be the projection onto 2 dimensions. This means that each cat and dog image will now only have two columns instead of 4096."
      ]
    },
    {
      "cell_type": "code",
      "metadata": {
        "id": "iGsTQBgrQ4nV"
      },
      "source": [
        "# Your code here:\n",
        "final_pca = pca.fit_transform(concat_transpose)"
      ],
      "execution_count": null,
      "outputs": []
    },
    {
      "cell_type": "markdown",
      "metadata": {
        "id": "tLpLjwhfQ4nV"
      },
      "source": [
        "# Challenge 3 - Plotting the Data\n",
        "\n",
        "Now that we have reduced our cats and dogs arrays, we can easily plot the data in a way that the human eye can understand. We can look at this plot to see whether there are differences between the cat and dog images. \n",
        "\n",
        "In the cell below, turn the two dimensional projection into a pandas dataframe and name the columns `pc1`, and `pc2` respectively."
      ]
    },
    {
      "cell_type": "code",
      "metadata": {
        "colab": {
          "base_uri": "https://localhost:8080/",
          "height": 206
        },
        "id": "s3nI3_saQ4nV",
        "outputId": "7d1f98f9-0108-438b-96e5-6d3839a0a475"
      },
      "source": [
        "# Your code here:\n",
        "df = pd.DataFrame(final_pca, columns=['pc1','pc2'])\n",
        "df.head()\n"
      ],
      "execution_count": null,
      "outputs": [
        {
          "output_type": "execute_result",
          "data": {
            "text/html": [
              "<div>\n",
              "<style scoped>\n",
              "    .dataframe tbody tr th:only-of-type {\n",
              "        vertical-align: middle;\n",
              "    }\n",
              "\n",
              "    .dataframe tbody tr th {\n",
              "        vertical-align: top;\n",
              "    }\n",
              "\n",
              "    .dataframe thead th {\n",
              "        text-align: right;\n",
              "    }\n",
              "</style>\n",
              "<table border=\"1\" class=\"dataframe\">\n",
              "  <thead>\n",
              "    <tr style=\"text-align: right;\">\n",
              "      <th></th>\n",
              "      <th>pc1</th>\n",
              "      <th>pc2</th>\n",
              "    </tr>\n",
              "  </thead>\n",
              "  <tbody>\n",
              "    <tr>\n",
              "      <th>0</th>\n",
              "      <td>-42.669674</td>\n",
              "      <td>21.678560</td>\n",
              "    </tr>\n",
              "    <tr>\n",
              "      <th>1</th>\n",
              "      <td>-32.622430</td>\n",
              "      <td>-11.442244</td>\n",
              "    </tr>\n",
              "    <tr>\n",
              "      <th>2</th>\n",
              "      <td>12.510187</td>\n",
              "      <td>-8.955641</td>\n",
              "    </tr>\n",
              "    <tr>\n",
              "      <th>3</th>\n",
              "      <td>-5.581385</td>\n",
              "      <td>-26.543846</td>\n",
              "    </tr>\n",
              "    <tr>\n",
              "      <th>4</th>\n",
              "      <td>-33.124529</td>\n",
              "      <td>10.580879</td>\n",
              "    </tr>\n",
              "  </tbody>\n",
              "</table>\n",
              "</div>"
            ],
            "text/plain": [
              "         pc1        pc2\n",
              "0 -42.669674  21.678560\n",
              "1 -32.622430 -11.442244\n",
              "2  12.510187  -8.955641\n",
              "3  -5.581385 -26.543846\n",
              "4 -33.124529  10.580879"
            ]
          },
          "metadata": {},
          "execution_count": 35
        }
      ]
    },
    {
      "cell_type": "markdown",
      "metadata": {
        "id": "qCtA8bpzQ4nV"
      },
      "source": [
        "Create a labels list. This list will be of size 160. The first 80 elements in the list will be the word `blue`, and the last 80 elements will be `red`. This will ensure that all dog observations will be colored in blue and all cats will be colored in red. Name this list `colors`."
      ]
    },
    {
      "cell_type": "code",
      "metadata": {
        "id": "n-cwt61tQ4nV"
      },
      "source": [
        "# Your code here:\n",
        "colors = [\"blue\" for i in range(80)]+[\"red\" for i in range(80)]"
      ],
      "execution_count": null,
      "outputs": []
    },
    {
      "cell_type": "markdown",
      "metadata": {
        "id": "Vz1VnwyJQ4nW"
      },
      "source": [
        "Create a scatter plot of `pc1` and `pc2` below. Use the `colors` list above to color the observations by setting `c=colors`."
      ]
    },
    {
      "cell_type": "code",
      "metadata": {
        "colab": {
          "base_uri": "https://localhost:8080/",
          "height": 283
        },
        "id": "Ycvz91tdQ4nW",
        "outputId": "0ad337d6-bae6-4401-cfd4-7eacc2e78a76"
      },
      "source": [
        "# Your code here:\n",
        "plt.scatter(df[\"pc1\"],df[\"pc2\"],c=colors)\n"
      ],
      "execution_count": null,
      "outputs": [
        {
          "output_type": "execute_result",
          "data": {
            "text/plain": [
              "<matplotlib.collections.PathCollection at 0x7fcf56a56c90>"
            ]
          },
          "metadata": {},
          "execution_count": 37
        },
        {
          "output_type": "display_data",
          "data": {
            "image/png": "[encoded data removed]",
            "text/plain": [
              "<Figure size 432x288 with 1 Axes>"
            ]
          },
          "metadata": {
            "needs_background": "light"
          }
        }
      ]
    },
    {
      "cell_type": "markdown",
      "metadata": {
        "id": "guOo4-2jQ4nW"
      },
      "source": [
        "Do you see a clear separation between cats and dogs? Write your answer below."
      ]
    },
    {
      "cell_type": "code",
      "metadata": {
        "id": "VMP-C3LYQ4nW"
      },
      "source": [
        "# Your conclusions here:\n",
        "'''No, there is not a clear separation (some points are over the others) but we can see\n",
        "a tendency that gods are more to the negative numbers and cats to the positive numbers'''"
      ],
      "execution_count": null,
      "outputs": []
    }
  ]
}